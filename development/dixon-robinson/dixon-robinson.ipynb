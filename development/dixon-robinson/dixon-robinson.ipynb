{
 "cells": [
  {
   "cell_type": "code",
   "execution_count": 1,
   "metadata": {},
   "outputs": [],
   "source": [
    "import pandas as pd\n",
    "import numpy as np\n",
    "import statsmodels.api as sm\n",
    "from matplotlib import pyplot as plt\n",
    "import scipy"
   ]
  },
  {
   "cell_type": "code",
   "execution_count": 2,
   "metadata": {},
   "outputs": [],
   "source": [
    "pd.set_option(\"display.max_columns\", None)\n",
    "pd.set_option(\"display.max_rows\", 100)\n",
    "pd.set_option(\"display.max_colwidth\", 100)\n",
    "pd.options.display.float_format = \"{: ,.5f}\".format"
   ]
  },
  {
   "cell_type": "markdown",
   "metadata": {},
   "source": [
    "# data"
   ]
  },
  {
   "cell_type": "code",
   "execution_count": 10,
   "metadata": {},
   "outputs": [],
   "source": [
    "df_games = pd.read_csv(\"data/games.csv\").assign(date=lambda x: pd.to_datetime(x.date))"
   ]
  },
  {
   "cell_type": "code",
   "execution_count": 15,
   "metadata": {},
   "outputs": [],
   "source": [
    "df = df_games.query(\n",
    "    \"competition == 'Premier League, England' & '2018-08-01' < date < '2019-08-01'\"\n",
    ").reset_index(drop=True)"
   ]
  },
  {
   "cell_type": "markdown",
   "metadata": {},
   "source": [
    "# models\n",
    "\n",
    "For match $k$  \n",
    "\n",
    "Scoring intensities for home and away team respectively are:  \n",
    "\n",
    "\\begin{equation}\n",
    "\\lambda_k(t) = \\lambda_k = \\alpha_{i(k)}\\beta_{j(k)}\\gamma_h,\n",
    "\\end{equation}\n",
    "\n",
    "\\begin{equation}\n",
    "\\mu_k(t) = \\mu_k = \\alpha_{j(k)}\\beta_{i(k)}\n",
    "\\end{equation}\n",
    "\n",
    "The likelihood is:  \n",
    "\n",
    "\\begin{equation}\n",
    "L(\\mathbf{t}_k, \\mathbf{J}_k) = \\exp(-\\Lambda[0, 1]) \\exp(-\\Upsilon[0, 1]) \\prod_{l=1}^{m_k} \\lambda_k(t_{k,l})^{1-J_{k,l}} \\mu_k(t_{k,l})^{J_{k,l}},\n",
    "\\end{equation}\n",
    "\n",
    "\\begin{equation}\n",
    "\\Lambda[t_1, t_2] = \\int_{t_1}^{t_2} \\lambda_k(t) dt\n",
    "\\end{equation}\n",
    "\n",
    "\\begin{equation}\n",
    "\\Upsilon[t_1, t_2] = \\int_{t_1}^{t_2} \\mu_k(t) dt  \n",
    "\\end{equation}\n",
    "\n",
    "where  \n",
    "$J$ is indicator for home goal  \n",
    "$m_k$ is the total number of goals in the match  \n",
    "  \n",
    "The likelihood can be broken down into the first 2 terms which is the time waiting for goals to occur. This is the time spent between the goals and the time spent after the last goal. Related to the survival function of an exponential distribution, representing the probability of scoring 0 goals.  \n",
    "And the final 2 terms which are probability density of a goal being scored at time t.    "
   ]
  },
  {
   "cell_type": "code",
   "execution_count": null,
   "metadata": {},
   "outputs": [],
   "source": [
    "# parameters\n",
    "alphas = "
   ]
  },
  {
   "cell_type": "code",
   "execution_count": null,
   "metadata": {},
   "outputs": [],
   "source": [
    "def lamdba_k(t: int) -> float:\n",
    "    \"\"\"\n",
    "    Scoring intensity for the home team in match k.\n",
    "    \"\"\""
   ]
  },
  {
   "cell_type": "code",
   "execution_count": null,
   "metadata": {},
   "outputs": [],
   "source": []
  },
  {
   "cell_type": "code",
   "execution_count": null,
   "metadata": {},
   "outputs": [],
   "source": []
  }
 ],
 "metadata": {
  "kernelspec": {
   "display_name": "pymc_env_2",
   "language": "python",
   "name": "python3"
  },
  "language_info": {
   "codemirror_mode": {
    "name": "ipython",
    "version": 3
   },
   "file_extension": ".py",
   "mimetype": "text/x-python",
   "name": "python",
   "nbconvert_exporter": "python",
   "pygments_lexer": "ipython3",
   "version": "3.11.7"
  }
 },
 "nbformat": 4,
 "nbformat_minor": 2
}
