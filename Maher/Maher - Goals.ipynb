{
 "cells": [
  {
   "cell_type": "code",
   "execution_count": 1,
   "id": "b27788e1",
   "metadata": {},
   "outputs": [],
   "source": [
    "import pandas as pd\n",
    "import glob\n",
    "import numpy as np\n",
    "from scipy.optimize import minimize\n",
    "import os\n",
    "from scipy.stats import poisson\n",
    "from collections import Counter\n",
    "import scipy"
   ]
  },
  {
   "cell_type": "code",
   "execution_count": 2,
   "id": "d5413c66",
   "metadata": {},
   "outputs": [
    {
     "data": {
      "text/html": [
       "<div>\n",
       "<style scoped>\n",
       "    .dataframe tbody tr th:only-of-type {\n",
       "        vertical-align: middle;\n",
       "    }\n",
       "\n",
       "    .dataframe tbody tr th {\n",
       "        vertical-align: top;\n",
       "    }\n",
       "\n",
       "    .dataframe thead th {\n",
       "        text-align: right;\n",
       "    }\n",
       "</style>\n",
       "<table border=\"1\" class=\"dataframe\">\n",
       "  <thead>\n",
       "    <tr style=\"text-align: right;\">\n",
       "      <th></th>\n",
       "      <th>HomeTeam</th>\n",
       "      <th>AwayTeam</th>\n",
       "      <th>FTHG</th>\n",
       "      <th>FTAG</th>\n",
       "    </tr>\n",
       "  </thead>\n",
       "  <tbody>\n",
       "    <tr>\n",
       "      <th>0</th>\n",
       "      <td>Arsenal</td>\n",
       "      <td>Leicester</td>\n",
       "      <td>4</td>\n",
       "      <td>3</td>\n",
       "    </tr>\n",
       "    <tr>\n",
       "      <th>1</th>\n",
       "      <td>Brighton</td>\n",
       "      <td>Man City</td>\n",
       "      <td>0</td>\n",
       "      <td>2</td>\n",
       "    </tr>\n",
       "    <tr>\n",
       "      <th>2</th>\n",
       "      <td>Chelsea</td>\n",
       "      <td>Burnley</td>\n",
       "      <td>2</td>\n",
       "      <td>3</td>\n",
       "    </tr>\n",
       "    <tr>\n",
       "      <th>3</th>\n",
       "      <td>Crystal Palace</td>\n",
       "      <td>Huddersfield</td>\n",
       "      <td>0</td>\n",
       "      <td>3</td>\n",
       "    </tr>\n",
       "    <tr>\n",
       "      <th>4</th>\n",
       "      <td>Everton</td>\n",
       "      <td>Stoke</td>\n",
       "      <td>1</td>\n",
       "      <td>0</td>\n",
       "    </tr>\n",
       "  </tbody>\n",
       "</table>\n",
       "</div>"
      ],
      "text/plain": [
       "         HomeTeam      AwayTeam  FTHG  FTAG\n",
       "0         Arsenal     Leicester     4     3\n",
       "1        Brighton      Man City     0     2\n",
       "2         Chelsea       Burnley     2     3\n",
       "3  Crystal Palace  Huddersfield     0     3\n",
       "4         Everton         Stoke     1     0"
      ]
     },
     "execution_count": 2,
     "metadata": {},
     "output_type": "execute_result"
    }
   ],
   "source": [
    "path =r'..\\\\data'\n",
    "epl1718 = pd.read_csv(path+\"\\\\football-data EPL 17-18.csv\")\n",
    "dataset = epl1718\n",
    "dataset = dataset[[\"HomeTeam\", \"AwayTeam\", \"FTHG\", \"FTAG\"]]\n",
    "dataset.head()"
   ]
  },
  {
   "cell_type": "code",
   "execution_count": 3,
   "id": "e65d3b09",
   "metadata": {},
   "outputs": [
    {
     "data": {
      "text/plain": [
       "20"
      ]
     },
     "execution_count": 3,
     "metadata": {},
     "output_type": "execute_result"
    }
   ],
   "source": [
    "teams = dataset['HomeTeam'].unique()\n",
    "n_teams = len(teams)\n",
    "n_teams"
   ]
  },
  {
   "cell_type": "markdown",
   "id": "ad6fa584",
   "metadata": {},
   "source": [
    "Model Specification: (Home Team Attack, Away Team Defense, Home Team Defense, Away Team Attack)"
   ]
  },
  {
   "cell_type": "markdown",
   "id": "0da8cb9f",
   "metadata": {},
   "source": [
    "# Model 4: (alpha_i, beta_i, gamma_i, delta_i)"
   ]
  },
  {
   "cell_type": "markdown",
   "id": "9c302626",
   "metadata": {},
   "source": [
    "Every team has 4 unique parameters:\n",
    "   * Attack at home\n",
    "   * Defense away\n",
    "   * Defense at home\n",
    "   * Attack away"
   ]
  },
  {
   "cell_type": "code",
   "execution_count": 4,
   "id": "4c56476b",
   "metadata": {},
   "outputs": [],
   "source": [
    "init_vals = np.concatenate((\n",
    "    np.random.uniform(0,1,(n_teams)),  # attack home strength\n",
    "    np.random.uniform(0,-1,(n_teams)),  # defence away strength\n",
    "    np.random.uniform(0,-1,(n_teams)),  # defence home strength\n",
    "    np.random.uniform(0,1,(n_teams)),  # attack away strength\n",
    "))"
   ]
  },
  {
   "cell_type": "code",
   "execution_count": 5,
   "id": "31b4995e",
   "metadata": {},
   "outputs": [],
   "source": [
    "def match_log_likelihood(x_k, y_k, alpha_ik, beta_jk, beta_ik, alpha_jk):\n",
    "    lambda_k = np.exp(alpha_ik + beta_jk)  # Home goals expected\n",
    "    mu_k = np.exp(alpha_jk + beta_ik)  # Away goals expected\n",
    "    \n",
    "    return (\n",
    "        np.log(poisson.pmf(x_k, lambda_k))\n",
    "        + np.log(poisson.pmf(y_k, mu_k))\n",
    "    )"
   ]
  },
  {
   "cell_type": "code",
   "execution_count": 6,
   "id": "fb123f6e",
   "metadata": {},
   "outputs": [],
   "source": [
    "def log_likelhood(params):\n",
    "    score_h_coefs = dict(zip(teams, params[:n_teams]))\n",
    "    defend_a_coefs = dict(zip(teams, params[n_teams:(2*n_teams)]))\n",
    "    defend_h_coefs = dict(zip(teams, params[(2*n_teams):(3*n_teams)]))\n",
    "    score_a_coefs = dict(zip(teams, params[(3*n_teams):])) \n",
    "    \n",
    "    log_like = [match_log_likelihood\n",
    "                (\n",
    "                    row.FTHG, \n",
    "                    row.FTAG, \n",
    "                    score_h_coefs[row.HomeTeam], \n",
    "                    defend_a_coefs[row.AwayTeam], \n",
    "                    defend_h_coefs[row.HomeTeam], \n",
    "                    score_a_coefs[row.AwayTeam]\n",
    "                ) \n",
    "                for row in dataset.itertuples()]\n",
    "    \n",
    "    return -sum(log_like)"
   ]
  },
  {
   "cell_type": "code",
   "execution_count": 7,
   "id": "3883da4e",
   "metadata": {},
   "outputs": [],
   "source": [
    "def equality_constraint_1(params):\n",
    "    return (sum(params[:n_teams]) - sum(params[n_teams:(2*n_teams)]))"
   ]
  },
  {
   "cell_type": "code",
   "execution_count": 8,
   "id": "52342efb",
   "metadata": {},
   "outputs": [],
   "source": [
    "def equality_constraint_2(params):\n",
    "    return (sum(params[(2*n_teams):(3*n_teams)]) - sum(params[(3*n_teams):]))"
   ]
  },
  {
   "cell_type": "code",
   "execution_count": 9,
   "id": "6fbc8dd1",
   "metadata": {},
   "outputs": [
    {
     "name": "stderr",
     "output_type": "stream",
     "text": [
      "C:\\Users\\benja\\AppData\\Local\\Temp/ipykernel_8352/4220174396.py:6: RuntimeWarning: divide by zero encountered in log\n",
      "  np.log(poisson.pmf(x_k, lambda_k))\n",
      "C:\\Users\\benja\\AppData\\Local\\Temp/ipykernel_8352/4220174396.py:7: RuntimeWarning: divide by zero encountered in log\n",
      "  + np.log(poisson.pmf(y_k, mu_k))\n"
     ]
    },
    {
     "name": "stdout",
     "output_type": "stream",
     "text": [
      "Iteration limit reached    (Exit mode 9)\n",
      "            Current function value: 1032.9658439461423\n",
      "            Iterations: 100\n",
      "            Function evaluations: 8225\n",
      "            Gradient evaluations: 100\n"
     ]
    }
   ],
   "source": [
    "opt_params_m4 = minimize(\n",
    "    log_likelhood,\n",
    "    init_vals,\n",
    "    constraints=[{'type':'eq', 'fun': equality_constraint_1}, {'type':'eq', 'fun': equality_constraint_2}], \n",
    "    options={'disp': True, 'maxiter':100}\n",
    ")"
   ]
  },
  {
   "cell_type": "code",
   "execution_count": 10,
   "id": "bf24a1b9",
   "metadata": {},
   "outputs": [],
   "source": [
    "parameters_m4 = dict(zip([\"attack_h_\" + team for team in teams] + \n",
    "                         [\"defence_a_\" + team for team in teams] +\n",
    "                         ['defence_h_' + team for team in teams] +\n",
    "                         ['attack_a_' + team for team in teams],\n",
    "                         opt_params_m4.x))"
   ]
  },
  {
   "cell_type": "code",
   "execution_count": 11,
   "id": "64b54aa4",
   "metadata": {},
   "outputs": [
    {
     "name": "stdout",
     "output_type": "stream",
     "text": [
      "Model 4 Log-Likelihood: 1032.9658439461423\n"
     ]
    }
   ],
   "source": [
    "Model_4_ll = opt_params_m4[\"fun\"]  # Model 4 Log-Likelihood\n",
    "print(f\"Model 4 Log-Likelihood: {Model_4_ll}\")"
   ]
  },
  {
   "cell_type": "markdown",
   "id": "dd73eb8f",
   "metadata": {},
   "source": [
    "# Model 2: (alpha_i, beta_i, kappa\\*beta_i, kappa\\*alpha_i)"
   ]
  },
  {
   "cell_type": "markdown",
   "id": "39926b52",
   "metadata": {},
   "source": [
    "**Every team has 2 unique parameters:**\n",
    "* Attack\n",
    "* Defense  \n",
    "\n",
    "**1 Global parameter:**\n",
    "* kappa - home adv same for every team"
   ]
  },
  {
   "cell_type": "code",
   "execution_count": 12,
   "id": "bc2a3bd3",
   "metadata": {},
   "outputs": [],
   "source": [
    "init_vals = np.concatenate((\n",
    "    np.random.uniform(0,1,(n_teams)),  # attack strength\n",
    "    np.random.uniform(0,-1,(n_teams)),  # defence strength\n",
    "    [1.]  # Home effect\n",
    "))"
   ]
  },
  {
   "cell_type": "code",
   "execution_count": 13,
   "id": "e6b5da9f",
   "metadata": {},
   "outputs": [],
   "source": [
    "def match_log_likelihood(x_k, y_k, alpha_ik, beta_jk, beta_ik, alpha_jk, kappa):\n",
    "    lambda_k = np.exp(alpha_ik + beta_jk + kappa)  # Home goals expected \n",
    "    mu_k = np.exp(alpha_jk + beta_ik)  # Away goals expected\n",
    "    \n",
    "    return (\n",
    "        np.log(poisson.pmf(x_k, lambda_k)) +\n",
    "        np.log(poisson.pmf(y_k, mu_k))\n",
    "    )"
   ]
  },
  {
   "cell_type": "code",
   "execution_count": 14,
   "id": "eba9c261",
   "metadata": {},
   "outputs": [],
   "source": [
    "def log_likelhood(params):\n",
    "    score_coefs = dict(zip(teams, params[:n_teams]))\n",
    "    defend_coefs = dict(zip(teams, params[n_teams:(2*n_teams)]))\n",
    "    kappa = params[-1]\n",
    "    \n",
    "    log_like = [match_log_likelihood(\n",
    "        row.FTHG, \n",
    "        row.FTAG,\n",
    "        score_coefs[row.HomeTeam], \n",
    "        defend_coefs[row.AwayTeam], \n",
    "        defend_coefs[row.HomeTeam],\n",
    "        score_coefs[row.AwayTeam],\n",
    "        kappa\n",
    "    ) \n",
    "                for row in dataset.itertuples()]\n",
    "    \n",
    "    return -sum(log_like)"
   ]
  },
  {
   "cell_type": "code",
   "execution_count": 15,
   "id": "96ea1840",
   "metadata": {},
   "outputs": [],
   "source": [
    "def equality_constraint(params):\n",
    "    return (sum(params[:n_teams]) - n_teams)"
   ]
  },
  {
   "cell_type": "code",
   "execution_count": 16,
   "id": "46d50c78",
   "metadata": {},
   "outputs": [
    {
     "name": "stderr",
     "output_type": "stream",
     "text": [
      "C:\\Users\\benja\\AppData\\Local\\Temp/ipykernel_8352/4281705710.py:6: RuntimeWarning: divide by zero encountered in log\n",
      "  np.log(poisson.pmf(x_k, lambda_k)) +\n",
      "C:\\Users\\benja\\AppData\\Local\\Temp/ipykernel_8352/4281705710.py:7: RuntimeWarning: divide by zero encountered in log\n",
      "  np.log(poisson.pmf(y_k, mu_k))\n"
     ]
    },
    {
     "name": "stdout",
     "output_type": "stream",
     "text": [
      "Optimization terminated successfully    (Exit mode 0)\n",
      "            Current function value: 1052.3376825829237\n",
      "            Iterations: 46\n",
      "            Function evaluations: 2004\n",
      "            Gradient evaluations: 46\n"
     ]
    }
   ],
   "source": [
    "opt_params_m2 = minimize(\n",
    "    log_likelhood, \n",
    "    init_vals, \n",
    "    constraints={'type':'eq', 'fun': equality_constraint}, \n",
    "    options={'disp': True, 'maxiter':100}\n",
    ")"
   ]
  },
  {
   "cell_type": "code",
   "execution_count": 17,
   "id": "343acb53",
   "metadata": {},
   "outputs": [],
   "source": [
    "parameters_m2 = dict(zip([\"attack_\" + team for team in teams] + \n",
    "                         [\"defence_\" + team for team in teams] +\n",
    "                         ['home_adv'],\n",
    "                         opt_params_m2.x))"
   ]
  },
  {
   "cell_type": "code",
   "execution_count": 18,
   "id": "25f94d68",
   "metadata": {},
   "outputs": [
    {
     "name": "stdout",
     "output_type": "stream",
     "text": [
      "Model 2 Log-Likelihood: 1052.3376825829237\n"
     ]
    }
   ],
   "source": [
    "Model_2_ll = opt_params_m2[\"fun\"]\n",
    "print(f\"Model 2 Log-Likelihood: {Model_2_ll}\")"
   ]
  },
  {
   "cell_type": "markdown",
   "id": "460d003b",
   "metadata": {},
   "source": [
    "# Model 0: (alpha, beta, gamma, delta)"
   ]
  },
  {
   "cell_type": "markdown",
   "id": "c7b004c8",
   "metadata": {},
   "source": [
    "**4 Global parameters:**\n",
    "* Attack when at home\n",
    "* Defense when away\n",
    "* Defense when at home\n",
    "* Attack when away\n"
   ]
  },
  {
   "cell_type": "code",
   "execution_count": 19,
   "id": "ef691502",
   "metadata": {},
   "outputs": [],
   "source": [
    "init_vals = [1.,  # Home Attack\n",
    "             -1.,  # Away Defencee\n",
    "             -1.,  # Home Defence\n",
    "             1.]  # Away Attack"
   ]
  },
  {
   "cell_type": "code",
   "execution_count": 20,
   "id": "355f068b",
   "metadata": {},
   "outputs": [],
   "source": [
    "def match_log_likelihood(x_k, y_k, alpha_ik, beta_jk, beta_ik, alpha_jk):\n",
    "    lambda_k = np.exp(alpha_ik + beta_jk)  # Home goals expected\n",
    "    mu_k = np.exp(alpha_jk + beta_ik)  # Away goals expected\n",
    "    \n",
    "    return (\n",
    "        np.log(poisson.pmf(x_k, lambda_k))\n",
    "        + np.log(poisson.pmf(y_k, mu_k))\n",
    "    )"
   ]
  },
  {
   "cell_type": "code",
   "execution_count": 21,
   "id": "6f02147f",
   "metadata": {},
   "outputs": [],
   "source": [
    "def log_likelhood(params):\n",
    "    home_attack = params[0]\n",
    "    away_defence = params[1]\n",
    "    home_defence = params[2]\n",
    "    away_attack = params[3]    \n",
    "    \n",
    "    log_like = [match_log_likelihood(\n",
    "        row.FTHG,\n",
    "        row.FTAG,\n",
    "        home_attack,\n",
    "        away_defence,\n",
    "        home_defence,\n",
    "        away_attack\n",
    "    ) \n",
    "                for row in dataset.itertuples()]\n",
    "    \n",
    "    return -sum(log_like)"
   ]
  },
  {
   "cell_type": "code",
   "execution_count": 22,
   "id": "da2de952",
   "metadata": {},
   "outputs": [],
   "source": [
    "def equality_constraint_1(params):\n",
    "    return (params[0] - params[1])\n",
    "\n",
    "def equality_constraint_2(params):\n",
    "    return (params[2] - params[3])"
   ]
  },
  {
   "cell_type": "code",
   "execution_count": 23,
   "id": "30aff26b",
   "metadata": {},
   "outputs": [
    {
     "name": "stderr",
     "output_type": "stream",
     "text": [
      "C:\\Users\\benja\\AppData\\Local\\Temp/ipykernel_8352/4220174396.py:6: RuntimeWarning: divide by zero encountered in log\n",
      "  np.log(poisson.pmf(x_k, lambda_k))\n",
      "C:\\Users\\benja\\AppData\\Local\\Temp/ipykernel_8352/4220174396.py:7: RuntimeWarning: divide by zero encountered in log\n",
      "  + np.log(poisson.pmf(y_k, mu_k))\n"
     ]
    },
    {
     "name": "stdout",
     "output_type": "stream",
     "text": [
      "Optimization terminated successfully    (Exit mode 0)\n",
      "            Current function value: 1155.5755005191922\n",
      "            Iterations: 6\n",
      "            Function evaluations: 36\n",
      "            Gradient evaluations: 6\n"
     ]
    }
   ],
   "source": [
    "opt_params_m0 = minimize(\n",
    "    log_likelhood,\n",
    "    init_vals,\n",
    "    constraints=[{'type':'eq', 'fun': equality_constraint_1}, {'type':'eq', 'fun': equality_constraint_2}], \n",
    "    options={'disp': True, 'maxiter':100}\n",
    ")"
   ]
  },
  {
   "cell_type": "code",
   "execution_count": 24,
   "id": "77c9d112",
   "metadata": {},
   "outputs": [],
   "source": [
    "parameters_m0 = {}\n",
    "for team in teams:\n",
    "    parameters_m0[f\"attack_home_{team}\"] = opt_params_m0.x[0]\n",
    "    \n",
    "for team in teams:\n",
    "    parameters_m0[f\"defence_away_{team}\"] = opt_params_m0.x[1]\n",
    "\n",
    "for team in teams:\n",
    "    parameters_m0[f\"defence_home_{team}\"] = opt_params_m0.x[2]\n",
    "    \n",
    "for team in teams:\n",
    "    parameters_m0[f\"attack_away_{team}\"] = opt_params_m0.x[3]"
   ]
  },
  {
   "cell_type": "code",
   "execution_count": 25,
   "id": "140db041",
   "metadata": {},
   "outputs": [
    {
     "name": "stdout",
     "output_type": "stream",
     "text": [
      "Model 0 Log-Likelihood: 1155.5755005191922\n"
     ]
    }
   ],
   "source": [
    "Model_0_ll = opt_params_m0[\"fun\"]\n",
    "print(f\"Model 0 Log-Likelihood: {Model_0_ll}\")"
   ]
  },
  {
   "cell_type": "markdown",
   "id": "631bf287",
   "metadata": {},
   "source": [
    "# Model 1A: (alpha_i, beta, gamma, alpha_i)"
   ]
  },
  {
   "cell_type": "markdown",
   "id": "892e28ae",
   "metadata": {},
   "source": [
    "**Every team has 1 unique parameters:**\n",
    "* Attack  \n",
    "\n",
    "**2 Global parameter:**\n",
    "* Defence when away\n",
    "* Defence at home"
   ]
  },
  {
   "cell_type": "code",
   "execution_count": 26,
   "id": "ad286328",
   "metadata": {},
   "outputs": [],
   "source": [
    "init_vals = np.concatenate((\n",
    "    np.random.uniform(0,1,(n_teams)),  # attack strength\n",
    "    [-1., -1.]  # defence strength at home, defence strength away\n",
    "))"
   ]
  },
  {
   "cell_type": "code",
   "execution_count": 27,
   "id": "4f0e2f0a",
   "metadata": {},
   "outputs": [],
   "source": [
    "def match_log_likelihood(x_k, y_k, alpha_ik, beta_jk, beta_ik, alpha_jk):\n",
    "    lambda_k = np.exp(alpha_ik + beta_jk)  # Home goals expected\n",
    "    mu_k = np.exp(alpha_jk + beta_ik)  # Away goals expected\n",
    "    \n",
    "    return (\n",
    "        np.log(poisson.pmf(x_k, lambda_k)) + \n",
    "        np.log(poisson.pmf(y_k, mu_k))\n",
    "    )"
   ]
  },
  {
   "cell_type": "code",
   "execution_count": 28,
   "id": "669619ad",
   "metadata": {},
   "outputs": [],
   "source": [
    "def log_likelhood(params):\n",
    "    score_coefs = dict(zip(teams, params[:n_teams]))\n",
    "    defend_h_coefs, defend_a_coefs = params[-2], params[-1]\n",
    "    \n",
    "    log_like = [match_log_likelihood(\n",
    "        row.FTHG, \n",
    "        row.FTAG, \n",
    "        score_coefs[row.HomeTeam], \n",
    "        defend_a_coefs,\n",
    "        defend_h_coefs,\n",
    "        score_coefs[row.AwayTeam]\n",
    "    ) \n",
    "                for row in dataset.itertuples()]\n",
    "    \n",
    "    return -sum(log_like)"
   ]
  },
  {
   "cell_type": "code",
   "execution_count": 29,
   "id": "1e0b05a2",
   "metadata": {},
   "outputs": [],
   "source": [
    "def equality_constraint(params):\n",
    "    return (sum(params[:n_teams]) - n_teams*params[-1])"
   ]
  },
  {
   "cell_type": "code",
   "execution_count": 30,
   "id": "11dea348",
   "metadata": {
    "scrolled": true
   },
   "outputs": [
    {
     "name": "stderr",
     "output_type": "stream",
     "text": [
      "C:\\Users\\benja\\AppData\\Local\\Temp/ipykernel_8352/3465659947.py:6: RuntimeWarning: divide by zero encountered in log\n",
      "  np.log(poisson.pmf(x_k, lambda_k)) +\n",
      "C:\\Users\\benja\\AppData\\Local\\Temp/ipykernel_8352/3465659947.py:7: RuntimeWarning: divide by zero encountered in log\n",
      "  np.log(poisson.pmf(y_k, mu_k))\n"
     ]
    },
    {
     "name": "stdout",
     "output_type": "stream",
     "text": [
      "Optimization terminated successfully    (Exit mode 0)\n",
      "            Current function value: 1080.1266122835514\n",
      "            Iterations: 29\n",
      "            Function evaluations: 710\n",
      "            Gradient evaluations: 29\n"
     ]
    }
   ],
   "source": [
    "opt_params_m1a = minimize(\n",
    "    log_likelhood, \n",
    "    init_vals,\n",
    "    constraints={'type':'eq', 'fun': equality_constraint}, \n",
    "    options={'disp': True, 'maxiter':100}\n",
    ")"
   ]
  },
  {
   "cell_type": "code",
   "execution_count": 31,
   "id": "92ba3714",
   "metadata": {},
   "outputs": [],
   "source": [
    "parameters_m1a = dict(zip([\"attack_h_\" + team for team in teams],\n",
    "                        opt_params_m1a.x[:n_teams]))\n",
    "for team in teams:\n",
    "    parameters_m1a[f\"defence_a_{team}\"] = opt_params_m1a.x[-1]\n",
    "    \n",
    "for team in teams:\n",
    "    parameters_m1a[f\"defence_h_{team}\"] = opt_params_m1a.x[-2]\n",
    "    \n",
    "parameters_m1a.update(\n",
    "    dict(zip([\"attack_a_\" + team for team in teams], opt_params_m1a.x[:n_teams]))\n",
    ")"
   ]
  },
  {
   "cell_type": "code",
   "execution_count": 32,
   "id": "7c129c1c",
   "metadata": {},
   "outputs": [
    {
     "name": "stdout",
     "output_type": "stream",
     "text": [
      "Model 1a Log-Likelihood: 1080.1266122835514\n"
     ]
    }
   ],
   "source": [
    "Model_1a_ll = opt_params_m1a[\"fun\"]\n",
    "print(f\"Model 1a Log-Likelihood: {Model_1a_ll}\")"
   ]
  },
  {
   "cell_type": "markdown",
   "id": "5cccfaf7",
   "metadata": {},
   "source": [
    "# Model 1B: (alpha, beta_i, beta_i, delta)"
   ]
  },
  {
   "cell_type": "markdown",
   "id": "a5419309",
   "metadata": {},
   "source": [
    "**Every team has 1 unique parameters:**\n",
    "* Defence  \n",
    "\n",
    "**2 Global parameters:**\n",
    "* Attack when away\n",
    "* Attack at home"
   ]
  },
  {
   "cell_type": "code",
   "execution_count": 33,
   "id": "05547a1c",
   "metadata": {},
   "outputs": [],
   "source": [
    "init_vals = np.concatenate((\n",
    "    np.random.uniform(0,-1,(n_teams)),  # defence strength\n",
    "    [1., 1.]  # attack strength at home, attack strength away\n",
    "))"
   ]
  },
  {
   "cell_type": "code",
   "execution_count": 34,
   "id": "2cb0df1a",
   "metadata": {},
   "outputs": [],
   "source": [
    "def match_log_likelihood(x_k, y_k, alpha_ik, beta_jk, beta_ik, alpha_jk):\n",
    "    lambda_k = np.exp(alpha_ik + beta_jk)  # Home goals expected\n",
    "    mu_k = np.exp(alpha_jk + beta_ik)  # Away goals expected\n",
    "    \n",
    "    return (\n",
    "        np.log(poisson.pmf(x_k, lambda_k)) + \n",
    "        np.log(poisson.pmf(y_k, mu_k))\n",
    "    )"
   ]
  },
  {
   "cell_type": "code",
   "execution_count": 35,
   "id": "fa00a1f6",
   "metadata": {},
   "outputs": [],
   "source": [
    "def log_likelhood(params):\n",
    "    defend_coefs = dict(zip(teams, params[:n_teams]))\n",
    "    attack_h_coef, attack_a_coef = params[-2], params[-1]\n",
    "    \n",
    "    log_like = [match_log_likelihood(\n",
    "        row.FTHG,\n",
    "        row.FTAG,\n",
    "        attack_h_coef, \n",
    "        defend_coefs[row.HomeTeam],\n",
    "        defend_coefs[row.AwayTeam], \n",
    "        attack_a_coef\n",
    "    ) \n",
    "                for row in dataset.itertuples()]\n",
    "    \n",
    "    return -sum(log_like)"
   ]
  },
  {
   "cell_type": "code",
   "execution_count": 36,
   "id": "b710d4e6",
   "metadata": {},
   "outputs": [],
   "source": [
    "def equality_constraint(params):\n",
    "    return (sum(params[:n_teams]) - n_teams*params[-2])"
   ]
  },
  {
   "cell_type": "code",
   "execution_count": 37,
   "id": "d36b4022",
   "metadata": {},
   "outputs": [
    {
     "name": "stderr",
     "output_type": "stream",
     "text": [
      "C:\\Users\\benja\\AppData\\Local\\Temp/ipykernel_8352/3465659947.py:6: RuntimeWarning: divide by zero encountered in log\n",
      "  np.log(poisson.pmf(x_k, lambda_k)) +\n",
      "C:\\Users\\benja\\AppData\\Local\\Temp/ipykernel_8352/3465659947.py:7: RuntimeWarning: divide by zero encountered in log\n",
      "  np.log(poisson.pmf(y_k, mu_k))\n"
     ]
    },
    {
     "name": "stdout",
     "output_type": "stream",
     "text": [
      "Optimization terminated successfully    (Exit mode 0)\n",
      "            Current function value: 1080.1266122721522\n",
      "            Iterations: 31\n",
      "            Function evaluations: 755\n",
      "            Gradient evaluations: 31\n"
     ]
    }
   ],
   "source": [
    "opt_params_m1b = minimize(\n",
    "    log_likelhood,\n",
    "    init_vals,\n",
    "    constraints={'type':'eq', 'fun': equality_constraint}, \n",
    "    options={'disp': True, 'maxiter':100}\n",
    ")"
   ]
  },
  {
   "cell_type": "code",
   "execution_count": 38,
   "id": "cad79171",
   "metadata": {},
   "outputs": [],
   "source": [
    "parameters_m1b = {}\n",
    "for team in teams:\n",
    "    parameters_m1b[f\"attack_home_{team}\"] = opt_params_m1b.x[-2]\n",
    "\n",
    "parameters_m1b.update(\n",
    "    dict(zip([\"defense_away_\" + team for team in teams], opt_params_m1b.x[:n_teams]))\n",
    ")\n",
    "\n",
    "parameters_m1b.update(\n",
    "    dict(zip([\"defense_home_\" + team for team in teams], opt_params_m1b.x[:n_teams]))\n",
    ")\n",
    "    \n",
    "for team in teams:\n",
    "    parameters_m1b[f\"attack_away_{team}\"] = opt_params_m1b.x[-1]"
   ]
  },
  {
   "cell_type": "code",
   "execution_count": 39,
   "id": "7c5f9950",
   "metadata": {},
   "outputs": [
    {
     "name": "stdout",
     "output_type": "stream",
     "text": [
      "Model 1b Log-Likelihood: 1080.1266122721522\n"
     ]
    }
   ],
   "source": [
    "Model_1b_ll = opt_params_m1b[\"fun\"]\n",
    "print(f\"Model 1b Log-Likelihood: {Model_1b_ll}\")"
   ]
  },
  {
   "cell_type": "markdown",
   "id": "8d5d7691",
   "metadata": {},
   "source": [
    "# Model 3C: (alpha_i, beta_i, gamma_i, alpha_i)"
   ]
  },
  {
   "cell_type": "markdown",
   "id": "e387bbd0",
   "metadata": {},
   "source": [
    "**Every team has 3 unique parameters:**  \n",
    "* Attack\n",
    "* Defense at home  \n",
    "* Defense away"
   ]
  },
  {
   "cell_type": "code",
   "execution_count": 40,
   "id": "51d53d9f",
   "metadata": {},
   "outputs": [],
   "source": [
    "init_vals = np.concatenate((\n",
    "    np.random.uniform(0,1,(n_teams)),  # attack strength\n",
    "    np.random.uniform(0,-1,(n_teams)),  # defence home strength\n",
    "    np.random.uniform(0,-1,(n_teams)),  # defence away strength\n",
    "))"
   ]
  },
  {
   "cell_type": "code",
   "execution_count": 41,
   "id": "2dbc9cc7",
   "metadata": {},
   "outputs": [],
   "source": [
    "def match_log_likelihood(x_k, y_k, alpha_ik, beta_jk, beta_ik, alpha_jk):\n",
    "    lambda_k = np.exp(alpha_ik + beta_jk)\n",
    "    mu_k = np.exp(alpha_jk + beta_ik)\n",
    "    \n",
    "    return (\n",
    "        np.log(poisson.pmf(x_k, lambda_k)) + \n",
    "        np.log(poisson.pmf(y_k, mu_k))\n",
    "    )"
   ]
  },
  {
   "cell_type": "code",
   "execution_count": 42,
   "id": "cbb7e91b",
   "metadata": {},
   "outputs": [],
   "source": [
    "def log_likelhood(params):\n",
    "    score_coefs = dict(zip(teams, params[:n_teams]))\n",
    "    defend_h_coefs = dict(zip(teams, params[n_teams:(2*n_teams)]))\n",
    "    defend_a_coefs = dict(zip(teams, params[(2*n_teams):]))\n",
    "    \n",
    "    log_like = [match_log_likelihood(\n",
    "        row.FTHG,\n",
    "        row.FTAG,\n",
    "        score_coefs[row.HomeTeam], \n",
    "        defend_a_coefs[row.AwayTeam],\n",
    "        defend_h_coefs[row.HomeTeam],\n",
    "        score_coefs[row.AwayTeam]\n",
    "    )\n",
    "                for row in dataset.itertuples()]\n",
    "    \n",
    "    return -sum(log_like)"
   ]
  },
  {
   "cell_type": "code",
   "execution_count": 43,
   "id": "24bcf097",
   "metadata": {},
   "outputs": [],
   "source": [
    "def equality_constraint(params):\n",
    "    return (sum(params[:n_teams]) - params[(2*n_teams):])"
   ]
  },
  {
   "cell_type": "code",
   "execution_count": 44,
   "id": "1f2d03e2",
   "metadata": {},
   "outputs": [
    {
     "name": "stderr",
     "output_type": "stream",
     "text": [
      "C:\\Users\\benja\\AppData\\Local\\Temp/ipykernel_8352/2857732364.py:6: RuntimeWarning: divide by zero encountered in log\n",
      "  np.log(poisson.pmf(x_k, lambda_k)) +\n",
      "C:\\Users\\benja\\AppData\\Local\\Temp/ipykernel_8352/2857732364.py:7: RuntimeWarning: divide by zero encountered in log\n",
      "  np.log(poisson.pmf(y_k, mu_k))\n"
     ]
    },
    {
     "name": "stdout",
     "output_type": "stream",
     "text": [
      "Optimization terminated successfully    (Exit mode 0)\n",
      "            Current function value: 1061.0918193409052\n",
      "            Iterations: 60\n",
      "            Function evaluations: 3734\n",
      "            Gradient evaluations: 60\n"
     ]
    }
   ],
   "source": [
    "opt_params_m3c = minimize(\n",
    "    log_likelhood,\n",
    "    init_vals,\n",
    "    constraints={'type':'eq', 'fun': equality_constraint}, \n",
    "    options={'disp': True, 'maxiter':100}\n",
    ")"
   ]
  },
  {
   "cell_type": "code",
   "execution_count": 45,
   "id": "504d040d",
   "metadata": {},
   "outputs": [],
   "source": [
    "parameters_m3c = dict(zip([\"attack_home_\" + team for team in teams], opt_params_m3c.x[ :n_teams]))\n",
    "    \n",
    "parameters_m3c.update(\n",
    "    dict(zip([\"defense_away_\" + team for team in teams], opt_params_m3c.x[2*n_teams: ]))\n",
    ")\n",
    "\n",
    "parameters_m3c.update(\n",
    "    dict(zip([\"defense_home_\" + team for team in teams], opt_params_m3c.x[n_teams: 2*n_teams]))\n",
    ")\n",
    "    \n",
    "for team in teams:\n",
    "    parameters_m3c[f\"attack_away_{team}\"] = parameters_m3c[f\"attack_home_{team}\"]"
   ]
  },
  {
   "cell_type": "code",
   "execution_count": 46,
   "id": "07d4b325",
   "metadata": {
    "scrolled": true
   },
   "outputs": [
    {
     "name": "stdout",
     "output_type": "stream",
     "text": [
      "Model 3c Log-Likelihood: 1061.0918193409052\n"
     ]
    }
   ],
   "source": [
    "Model_3c_ll = opt_params_m3c[\"fun\"]\n",
    "print(f\"Model 3c Log-Likelihood: {Model_3c_ll}\")"
   ]
  },
  {
   "cell_type": "markdown",
   "id": "4345ffda",
   "metadata": {},
   "source": [
    "# Model 3D: (alpha_i, beta_i, beta_i, delta_i)"
   ]
  },
  {
   "cell_type": "markdown",
   "id": "ac47ceb4",
   "metadata": {},
   "source": [
    "**Every team has 3 unique parameters:**  \n",
    "* Defense\n",
    "* Attack at home  \n",
    "* Attack away"
   ]
  },
  {
   "cell_type": "code",
   "execution_count": 47,
   "id": "0bb9870e",
   "metadata": {},
   "outputs": [],
   "source": [
    "init_vals = np.concatenate((\n",
    "    np.random.uniform(0,-1,(n_teams)),  # defence strength\n",
    "    np.random.uniform(0,1,(n_teams)),  # attack home strength\n",
    "    np.random.uniform(0,1,(n_teams)),  # attack away strength\n",
    "))"
   ]
  },
  {
   "cell_type": "code",
   "execution_count": 48,
   "id": "1a90e6d4",
   "metadata": {},
   "outputs": [],
   "source": [
    "def match_log_likelihood(x_k, y_k, alpha_ik, beta_jk, beta_ik, alpha_jk):\n",
    "    lambda_k = np.exp(alpha_ik + beta_jk)\n",
    "    mu_k = np.exp(alpha_jk + beta_ik)\n",
    "    \n",
    "    return (\n",
    "        np.log(poisson.pmf(x_k, lambda_k)) + \n",
    "        np.log(poisson.pmf(y_k, mu_k))\n",
    "    )"
   ]
  },
  {
   "cell_type": "code",
   "execution_count": 49,
   "id": "c3afdc1d",
   "metadata": {},
   "outputs": [],
   "source": [
    "def log_likelhood(params):\n",
    "    defend_coefs = dict(zip(teams, params[:n_teams]))\n",
    "    attack_h_coefs = dict(zip(teams, params[n_teams:(2*n_teams)]))\n",
    "    attack_a_coefs = dict(zip(teams, params[(2*n_teams):]))\n",
    "    \n",
    "    log_like = [match_log_likelihood(\n",
    "        row.FTHG,\n",
    "        row.FTAG,\n",
    "        attack_h_coefs[row.HomeTeam],\n",
    "        defend_coefs[row.AwayTeam], \n",
    "        defend_coefs[row.HomeTeam],\n",
    "        attack_a_coefs[row.AwayTeam]\n",
    "    ) \n",
    "                for row in dataset.itertuples()]\n",
    "    \n",
    "    return -sum(log_like)"
   ]
  },
  {
   "cell_type": "code",
   "execution_count": 50,
   "id": "a46f7eac",
   "metadata": {},
   "outputs": [],
   "source": [
    "def equality_constraint(params):\n",
    "    return (sum(params[:n_teams]) - params[n_teams:(2*n_teams)])"
   ]
  },
  {
   "cell_type": "code",
   "execution_count": 51,
   "id": "ad6de854",
   "metadata": {},
   "outputs": [
    {
     "name": "stderr",
     "output_type": "stream",
     "text": [
      "C:\\Users\\benja\\AppData\\Local\\Temp/ipykernel_8352/2857732364.py:6: RuntimeWarning: divide by zero encountered in log\n",
      "  np.log(poisson.pmf(x_k, lambda_k)) +\n",
      "C:\\Users\\benja\\AppData\\Local\\Temp/ipykernel_8352/2857732364.py:7: RuntimeWarning: divide by zero encountered in log\n",
      "  np.log(poisson.pmf(y_k, mu_k))\n"
     ]
    },
    {
     "name": "stdout",
     "output_type": "stream",
     "text": [
      "Optimization terminated successfully    (Exit mode 0)\n",
      "            Current function value: 1084.3992351556574\n",
      "            Iterations: 58\n",
      "            Function evaluations: 3597\n",
      "            Gradient evaluations: 58\n"
     ]
    }
   ],
   "source": [
    "opt_params_m3d = minimize(\n",
    "    log_likelhood,\n",
    "    init_vals,\n",
    "    constraints={'type':'eq', 'fun': equality_constraint}, \n",
    "    options={'disp': True, 'maxiter':100}\n",
    ")"
   ]
  },
  {
   "cell_type": "code",
   "execution_count": 52,
   "id": "bbfc3854",
   "metadata": {},
   "outputs": [],
   "source": [
    "parameters_m3d = dict(zip([\"attack_home_\" + team for team in teams], opt_params_m3d.x[n_teams: 2*n_teams]))\n",
    "    \n",
    "parameters_m3d.update(\n",
    "    dict(zip([\"defense_away_\" + team for team in teams], opt_params_m3d.x[ : n_teams]))\n",
    ")\n",
    "\n",
    "parameters_m3d.update(\n",
    "    dict(zip([\"defense_home_\" + team for team in teams], opt_params_m3d.x[ : n_teams]))\n",
    ")\n",
    "    \n",
    "parameters_m3d.update(\n",
    "    dict(zip([\"attack_away_\" + team for team in teams], opt_params_m3d.x[2*n_teams: ]))\n",
    ")"
   ]
  },
  {
   "cell_type": "code",
   "execution_count": 53,
   "id": "136fd761",
   "metadata": {},
   "outputs": [
    {
     "name": "stdout",
     "output_type": "stream",
     "text": [
      "Model 3d Log-Likelihood: 1084.3992351556574\n"
     ]
    }
   ],
   "source": [
    "Model_3d_ll = opt_params_m3d[\"fun\"]\n",
    "print(f\"Model 3d Log-Likelihood: {Model_3d_ll}\")"
   ]
  },
  {
   "cell_type": "markdown",
   "id": "65b15e33",
   "metadata": {},
   "source": [
    "# 4 Goodness-of-fit-tests"
   ]
  },
  {
   "cell_type": "markdown",
   "id": "6c21db02",
   "metadata": {},
   "source": [
    "Likelihood ratio test: difference between models log likelihood's is chi2(k=n-1) distributed"
   ]
  },
  {
   "cell_type": "code",
   "execution_count": 73,
   "id": "0b032c90",
   "metadata": {},
   "outputs": [
    {
     "name": "stdout",
     "output_type": "stream",
     "text": [
      "Model 0 Log-Likelihood: 1155.5755005191922\n",
      "Model 1a Log-Likelihood: 1080.1266122835514\n",
      "Model 1b Log-Likelihood: 1080.1266122721522\n",
      "Model 2 Log-Likelihood: 1052.3376825829237\n",
      "Model 3c Log-Likelihood: 1061.0918193409052\n",
      "Model 3d Log-Likelihood: 1084.3992351556574\n",
      "Model 4 Log-Likelihood: 1032.9658439461423\n"
     ]
    }
   ],
   "source": [
    "print(f\"Model 0 Log-Likelihood: {Model_0_ll}\")\n",
    "print(f\"Model 1a Log-Likelihood: {Model_1a_ll}\")\n",
    "print(f\"Model 1b Log-Likelihood: {Model_1b_ll}\")\n",
    "print(f\"Model 2 Log-Likelihood: {Model_2_ll}\")\n",
    "print(f\"Model 3c Log-Likelihood: {Model_3c_ll}\")\n",
    "print(f\"Model 3d Log-Likelihood: {Model_3d_ll}\")\n",
    "print(f\"Model 4 Log-Likelihood: {Model_4_ll}\")"
   ]
  },
  {
   "cell_type": "code",
   "execution_count": 54,
   "id": "ee8a2733",
   "metadata": {},
   "outputs": [],
   "source": [
    "ll_increase_4_3d = Model_4_ll - Model_3d_ll\n",
    "ll_increase_4_3c = Model_4_ll - Model_3c_ll\n",
    "ll_increase_3d_2 = Model_3d_ll - Model_2_ll\n",
    "ll_increase_3c_2 = Model_3c_ll - Model_2_ll\n",
    "ll_increase_2_1b = Model_2_ll - Model_1b_ll\n",
    "ll_increase_2_1a = Model_2_ll - Model_1a_ll\n",
    "ll_increase_1b_0 = Model_1b_ll - Model_0_ll\n",
    "ll_increase_1a_0 = Model_1a_ll - Model_0_ll"
   ]
  },
  {
   "cell_type": "code",
   "execution_count": 55,
   "id": "a0230797",
   "metadata": {},
   "outputs": [
    {
     "data": {
      "text/plain": [
       "30.14352720564616"
      ]
     },
     "execution_count": 55,
     "metadata": {},
     "output_type": "execute_result"
    }
   ],
   "source": [
    "scipy.stats.chi2.ppf(0.95, n_teams-1)"
   ]
  },
  {
   "cell_type": "code",
   "execution_count": 56,
   "id": "56cba62e",
   "metadata": {},
   "outputs": [
    {
     "data": {
      "text/plain": [
       "36.19086912927004"
      ]
     },
     "execution_count": 56,
     "metadata": {},
     "output_type": "execute_result"
    }
   ],
   "source": [
    "scipy.stats.chi2.ppf(0.99, n_teams-1)"
   ]
  },
  {
   "cell_type": "markdown",
   "id": "210078b8",
   "metadata": {},
   "source": [
    "Model 2 is judged most appropriate and carried forward for chi-squared goodness-of-fit analysis"
   ]
  },
  {
   "cell_type": "markdown",
   "id": "25a898d4",
   "metadata": {},
   "source": [
    "## Table 4.    Observed and expected frequencies of home and away scores"
   ]
  },
  {
   "cell_type": "code",
   "execution_count": 86,
   "id": "5b10edfd",
   "metadata": {},
   "outputs": [],
   "source": [
    "table_4_df = pd.DataFrame({\"number_of_goals\": [0, 1, 2, 3, \">=4\"], \n",
    "                           \"home_obs\": [sum(dataset[\"FTHG\"]==0), sum(dataset[\"FTHG\"]==1), sum(dataset[\"FTHG\"]==2), sum(dataset[\"FTHG\"]==3), sum(dataset[\"FTHG\"]>=4)], \n",
    "                           \"home_exp\": 0, \n",
    "                           \"away_obs\": [sum(dataset[\"FTAG\"]==0), sum(dataset[\"FTAG\"]==1), sum(dataset[\"FTAG\"]==2), sum(dataset[\"FTAG\"]==3), sum(dataset[\"FTAG\"]>=4)], \n",
    "                           \"away_exp\": 0})"
   ]
  },
  {
   "cell_type": "code",
   "execution_count": 87,
   "id": "3514c2c1",
   "metadata": {},
   "outputs": [],
   "source": [
    "def calc_goals_pr(param_dict, homeTeam, awayTeam):\n",
    "    means = [np.exp(param_dict['attack_'+homeTeam] + param_dict['defence_'+awayTeam] + param_dict['home_adv']),\n",
    "     np.exp(param_dict['defence_'+homeTeam] + param_dict['attack_'+awayTeam])]\n",
    "    \n",
    "    team_pred = [[poisson.pmf(i, team_avg) for i in range(4)] for team_avg in means]\n",
    "    \n",
    "    for i in range(len(means)):\n",
    "        team_pred[i].append(1 - poisson.cdf(3, means[i]))\n",
    "    \n",
    "    return np.array(team_pred)"
   ]
  },
  {
   "cell_type": "code",
   "execution_count": 88,
   "id": "c2d550cb",
   "metadata": {},
   "outputs": [],
   "source": [
    "sum_array = np.zeros((2, 5))\n",
    "for row in dataset.itertuples():\n",
    "    sum_array += calc_goals_pr(parameters_m2, row.HomeTeam, row.AwayTeam)"
   ]
  },
  {
   "cell_type": "code",
   "execution_count": 89,
   "id": "7b48f02b",
   "metadata": {},
   "outputs": [],
   "source": [
    "table_4_df[\"home_exp\"] = sum_array[0]\n",
    "table_4_df[\"away_exp\"] = sum_array[1]"
   ]
  },
  {
   "cell_type": "code",
   "execution_count": 90,
   "id": "da152992",
   "metadata": {
    "scrolled": true
   },
   "outputs": [
    {
     "data": {
      "text/html": [
       "<div>\n",
       "<style scoped>\n",
       "    .dataframe tbody tr th:only-of-type {\n",
       "        vertical-align: middle;\n",
       "    }\n",
       "\n",
       "    .dataframe tbody tr th {\n",
       "        vertical-align: top;\n",
       "    }\n",
       "\n",
       "    .dataframe thead th {\n",
       "        text-align: right;\n",
       "    }\n",
       "</style>\n",
       "<table border=\"1\" class=\"dataframe\">\n",
       "  <thead>\n",
       "    <tr style=\"text-align: right;\">\n",
       "      <th></th>\n",
       "      <th>number_of_goals</th>\n",
       "      <th>home_obs</th>\n",
       "      <th>home_exp</th>\n",
       "      <th>away_obs</th>\n",
       "      <th>away_exp</th>\n",
       "    </tr>\n",
       "  </thead>\n",
       "  <tbody>\n",
       "    <tr>\n",
       "      <th>0</th>\n",
       "      <td>0</td>\n",
       "      <td>90</td>\n",
       "      <td>100.402215</td>\n",
       "      <td>136</td>\n",
       "      <td>135.934783</td>\n",
       "    </tr>\n",
       "    <tr>\n",
       "      <th>1</th>\n",
       "      <td>1</td>\n",
       "      <td>126</td>\n",
       "      <td>118.079646</td>\n",
       "      <td>127</td>\n",
       "      <td>126.427138</td>\n",
       "    </tr>\n",
       "    <tr>\n",
       "      <th>2</th>\n",
       "      <td>2</td>\n",
       "      <td>91</td>\n",
       "      <td>81.412585</td>\n",
       "      <td>65</td>\n",
       "      <td>69.666592</td>\n",
       "    </tr>\n",
       "    <tr>\n",
       "      <th>3</th>\n",
       "      <td>3</td>\n",
       "      <td>35</td>\n",
       "      <td>44.021443</td>\n",
       "      <td>33</td>\n",
       "      <td>30.344685</td>\n",
       "    </tr>\n",
       "    <tr>\n",
       "      <th>4</th>\n",
       "      <td>&gt;=4</td>\n",
       "      <td>38</td>\n",
       "      <td>36.084110</td>\n",
       "      <td>19</td>\n",
       "      <td>17.626802</td>\n",
       "    </tr>\n",
       "  </tbody>\n",
       "</table>\n",
       "</div>"
      ],
      "text/plain": [
       "  number_of_goals  home_obs    home_exp  away_obs    away_exp\n",
       "0               0        90  100.402215       136  135.934783\n",
       "1               1       126  118.079646       127  126.427138\n",
       "2               2        91   81.412585        65   69.666592\n",
       "3               3        35   44.021443        33   30.344685\n",
       "4             >=4        38   36.084110        19   17.626802"
      ]
     },
     "execution_count": 90,
     "metadata": {},
     "output_type": "execute_result"
    }
   ],
   "source": [
    "table_4_df"
   ]
  },
  {
   "cell_type": "markdown",
   "id": "3cf36f9e",
   "metadata": {},
   "source": [
    "### Chi-Squared goodness of fit test"
   ]
  },
  {
   "cell_type": "code",
   "execution_count": 91,
   "id": "349355e9",
   "metadata": {},
   "outputs": [],
   "source": [
    "table_5_df = table_4_df.copy()\n",
    "table_5_df[\"home_t_stat\"] = (table_5_df[\"home_obs\"] - table_5_df[\"home_exp\"])**2/table_5_df[\"home_exp\"]\n",
    "table_5_df[\"away_t_stat\"] = (table_5_df[\"away_obs\"] - table_5_df[\"away_exp\"])**2/table_5_df[\"away_exp\"]"
   ]
  },
  {
   "cell_type": "code",
   "execution_count": 92,
   "id": "6e761eff",
   "metadata": {},
   "outputs": [],
   "source": [
    "home_t_stat = table_5_df[\"home_t_stat\"].sum()\n",
    "away_t_stat = table_5_df[\"away_t_stat\"].sum()"
   ]
  },
  {
   "cell_type": "code",
   "execution_count": 93,
   "id": "14fd90f2",
   "metadata": {},
   "outputs": [],
   "source": [
    "home_p_val = 1-scipy.stats.chi2.cdf(home_t_stat, len(table_4_df) - 2)\n",
    "away_p_val = 1-scipy.stats.chi2.cdf(away_t_stat, len(table_4_df) - 2)"
   ]
  },
  {
   "cell_type": "markdown",
   "id": "10b420f8",
   "metadata": {},
   "source": [
    "Both p-values are > 0.05, so cannot reject that the observed goals come from an independent Poisson distribution at the 5% level"
   ]
  },
  {
   "cell_type": "markdown",
   "id": "76d71f8c",
   "metadata": {},
   "source": [
    "# 5 A bivariate Poisson model"
   ]
  },
  {
   "cell_type": "markdown",
   "id": "0de3acaf",
   "metadata": {},
   "source": [
    "## Table 6. \n",
    "**Observed and estimated frequencies for Z, the difference in the teams' scores, for (i) the independent Poisson model and (ii) the bivariate Possion with Q = 0.2**"
   ]
  },
  {
   "cell_type": "code",
   "execution_count": 165,
   "id": "72a2c303",
   "metadata": {},
   "outputs": [],
   "source": [
    "dataset_1 = dataset.copy()\n",
    "dataset_1[\"Z\"] = dataset_1[\"FTHG\"] - dataset_1[\"FTAG\"]"
   ]
  },
  {
   "cell_type": "code",
   "execution_count": 166,
   "id": "cee2f234",
   "metadata": {
    "scrolled": true
   },
   "outputs": [],
   "source": [
    "table_6_df = pd.DataFrame({\n",
    "    \"Z\": [\"<=-3\", -2, -1, 0, 1, 2, 3, 4,\">=5\"], \n",
    "    \"observed\": [sum(dataset_1[\"Z\"]<=-3), sum(dataset_1[\"Z\"]==-2), \n",
    "                 sum(dataset_1[\"Z\"]==-1), sum(dataset_1[\"Z\"]==0), \n",
    "                 sum(dataset_1[\"Z\"]==1), sum(dataset_1[\"Z\"]==2), \n",
    "                 sum(dataset_1[\"Z\"]==3), sum(dataset_1[\"Z\"]==4), \n",
    "                 sum(dataset_1[\"Z\"]>=5)]\n",
    "})"
   ]
  },
  {
   "cell_type": "code",
   "execution_count": 167,
   "id": "64b80b3d",
   "metadata": {},
   "outputs": [],
   "source": [
    "def calc_goals_pr_dict(param_dict, homeTeam, awayTeam, q=0):\n",
    "    means = [np.exp(param_dict['attack_'+homeTeam] + param_dict['defence_'+awayTeam] + param_dict['home_adv']),\n",
    "             np.exp(param_dict['defence_'+homeTeam] + param_dict['attack_'+awayTeam])]\n",
    "    \n",
    "    team_pred = []\n",
    "    for mean in means:\n",
    "        dicti = {}\n",
    "        for i in range(0, 15):\n",
    "            correction = q*np.sqrt(means[0]*means[1])\n",
    "            expectation = mean - correction\n",
    "            dicti[i] = poisson.pmf(i, expectation)\n",
    "        \n",
    "        team_pred.append(dicti)\n",
    "\n",
    "    return team_pred"
   ]
  },
  {
   "cell_type": "code",
   "execution_count": 168,
   "id": "d119c58a",
   "metadata": {},
   "outputs": [],
   "source": [
    "def get_goal_diff_pr(team_pred):\n",
    "    out = {}\n",
    "    for k_h, v_h in team_pred[0].items():\n",
    "        for k_a, v_a in team_pred[1].items():\n",
    "            diff = k_h - k_a\n",
    "            if (diff <= -3):\n",
    "                diff = \"<=-3\"\n",
    "            elif (diff >= 5):\n",
    "                diff = \">=5\"\n",
    "            \n",
    "            if (out.get(diff, 0) == 0):\n",
    "                out[diff] = v_h*v_a\n",
    "            else:\n",
    "                out[diff] += v_h*v_a\n",
    "    return out"
   ]
  },
  {
   "cell_type": "code",
   "execution_count": 169,
   "id": "49b11c60",
   "metadata": {},
   "outputs": [],
   "source": [
    "def add_to_dict(dic, dic_to_add):\n",
    "    for k_b, v_b in dic_to_add.items():\n",
    "        if dic.get(k_b, 0) == 0:\n",
    "            dic[k_b] = v_b\n",
    "        else:\n",
    "            dic[k_b] += v_b"
   ]
  },
  {
   "cell_type": "code",
   "execution_count": 176,
   "id": "f07dd760",
   "metadata": {},
   "outputs": [],
   "source": [
    "q0_sum_dict = {}\n",
    "q200_sum_dict = {}\n",
    "for row in dataset_1.itertuples():\n",
    "    goals_dict_q0 = calc_goals_pr_dict(parameters_m2, row.HomeTeam, row.AwayTeam)\n",
    "    goal_diff_dict_q0 = get_goal_diff_pr(goals_dict_q0)\n",
    "    add_to_dict(q0_sum_dict, goal_diff_dict_q0)\n",
    "    \n",
    "    goals_dict_q200 = calc_goals_pr_dict(parameters_m2, row.HomeTeam, row.AwayTeam, 0.2)\n",
    "    goal_diff_dict_q200 = get_goal_diff_pr(goals_dict_q200)\n",
    "    add_to_dict(q200_sum_dict, goal_diff_dict_q200)"
   ]
  },
  {
   "cell_type": "code",
   "execution_count": 177,
   "id": "9972c8f9",
   "metadata": {},
   "outputs": [],
   "source": [
    "estimated_q0 = []\n",
    "estimated_q200 = []\n",
    "for row in table_6_df.itertuples():\n",
    "    estimated_q0.append(q0_sum_dict[row.Z])\n",
    "    estimated_q200.append(q200_sum_dict[row.Z])\n",
    "    \n",
    "table_6_df[\"estimated_q0\"] = estimated_q0\n",
    "table_6_df[\"estimated_q200\"] = estimated_q200"
   ]
  },
  {
   "cell_type": "code",
   "execution_count": 178,
   "id": "d0b253a5",
   "metadata": {},
   "outputs": [
    {
     "data": {
      "text/html": [
       "<div>\n",
       "<style scoped>\n",
       "    .dataframe tbody tr th:only-of-type {\n",
       "        vertical-align: middle;\n",
       "    }\n",
       "\n",
       "    .dataframe tbody tr th {\n",
       "        vertical-align: top;\n",
       "    }\n",
       "\n",
       "    .dataframe thead th {\n",
       "        text-align: right;\n",
       "    }\n",
       "</style>\n",
       "<table border=\"1\" class=\"dataframe\">\n",
       "  <thead>\n",
       "    <tr style=\"text-align: right;\">\n",
       "      <th></th>\n",
       "      <th>Z</th>\n",
       "      <th>observed</th>\n",
       "      <th>estimated_q0</th>\n",
       "      <th>estimated_q200</th>\n",
       "      <th>t_stat_q0</th>\n",
       "      <th>t_stat_q200</th>\n",
       "    </tr>\n",
       "  </thead>\n",
       "  <tbody>\n",
       "    <tr>\n",
       "      <th>0</th>\n",
       "      <td>&lt;=-3</td>\n",
       "      <td>29</td>\n",
       "      <td>23.452338</td>\n",
       "      <td>19.068378</td>\n",
       "      <td>1.312302</td>\n",
       "      <td>8.589438</td>\n",
       "    </tr>\n",
       "    <tr>\n",
       "      <th>1</th>\n",
       "      <td>-2</td>\n",
       "      <td>21</td>\n",
       "      <td>32.830931</td>\n",
       "      <td>29.945630</td>\n",
       "      <td>4.263386</td>\n",
       "      <td>1.811768</td>\n",
       "    </tr>\n",
       "    <tr>\n",
       "      <th>2</th>\n",
       "      <td>-1</td>\n",
       "      <td>58</td>\n",
       "      <td>62.214914</td>\n",
       "      <td>62.709093</td>\n",
       "      <td>0.285551</td>\n",
       "      <td>0.297543</td>\n",
       "    </tr>\n",
       "    <tr>\n",
       "      <th>3</th>\n",
       "      <td>0</td>\n",
       "      <td>99</td>\n",
       "      <td>87.917985</td>\n",
       "      <td>97.847063</td>\n",
       "      <td>1.396882</td>\n",
       "      <td>0.279494</td>\n",
       "    </tr>\n",
       "    <tr>\n",
       "      <th>4</th>\n",
       "      <td>1</td>\n",
       "      <td>83</td>\n",
       "      <td>76.100519</td>\n",
       "      <td>79.740847</td>\n",
       "      <td>0.625526</td>\n",
       "      <td>0.032135</td>\n",
       "    </tr>\n",
       "    <tr>\n",
       "      <th>5</th>\n",
       "      <td>2</td>\n",
       "      <td>41</td>\n",
       "      <td>48.852503</td>\n",
       "      <td>47.553285</td>\n",
       "      <td>1.262204</td>\n",
       "      <td>0.655718</td>\n",
       "    </tr>\n",
       "    <tr>\n",
       "      <th>6</th>\n",
       "      <td>3</td>\n",
       "      <td>27</td>\n",
       "      <td>26.336168</td>\n",
       "      <td>24.148900</td>\n",
       "      <td>0.016733</td>\n",
       "      <td>0.726032</td>\n",
       "    </tr>\n",
       "    <tr>\n",
       "      <th>7</th>\n",
       "      <td>4</td>\n",
       "      <td>12</td>\n",
       "      <td>12.741110</td>\n",
       "      <td>11.154170</td>\n",
       "      <td>0.043108</td>\n",
       "      <td>0.262223</td>\n",
       "    </tr>\n",
       "    <tr>\n",
       "      <th>8</th>\n",
       "      <td>&gt;=5</td>\n",
       "      <td>10</td>\n",
       "      <td>9.553400</td>\n",
       "      <td>7.832582</td>\n",
       "      <td>0.020878</td>\n",
       "      <td>1.249643</td>\n",
       "    </tr>\n",
       "  </tbody>\n",
       "</table>\n",
       "</div>"
      ],
      "text/plain": [
       "      Z  observed  estimated_q0  estimated_q200  t_stat_q0  t_stat_q200\n",
       "0  <=-3        29     23.452338       19.068378   1.312302     8.589438\n",
       "1    -2        21     32.830931       29.945630   4.263386     1.811768\n",
       "2    -1        58     62.214914       62.709093   0.285551     0.297543\n",
       "3     0        99     87.917985       97.847063   1.396882     0.279494\n",
       "4     1        83     76.100519       79.740847   0.625526     0.032135\n",
       "5     2        41     48.852503       47.553285   1.262204     0.655718\n",
       "6     3        27     26.336168       24.148900   0.016733     0.726032\n",
       "7     4        12     12.741110       11.154170   0.043108     0.262223\n",
       "8   >=5        10      9.553400        7.832582   0.020878     1.249643"
      ]
     },
     "execution_count": 178,
     "metadata": {},
     "output_type": "execute_result"
    }
   ],
   "source": [
    "table_6_df"
   ]
  },
  {
   "cell_type": "code",
   "execution_count": 179,
   "id": "15c3e661",
   "metadata": {},
   "outputs": [],
   "source": [
    "table_6_df[\"t_stat_q0\"] = (table_6_df[\"observed\"] - table_6_df[\"estimated_q0\"])**2/table_6_df[\"estimated_q0\"]\n",
    "table_6_df[\"t_stat_q200\"] = (table_6_df[\"observed\"] - table_6_df[\"estimated_q200\"])**2/table_6_df[\"estimated_q200\"]\n",
    "                                                            \n",
    "t_stat_q0 = table_6_df[\"t_stat_q0\"].sum()\n",
    "t_stat_q200 = table_6_df[\"t_stat_q200\"].sum()\n",
    "\n",
    "q0_p_val = 1-scipy.stats.chi2.cdf(t_stat_q0,  len(table_6_df)-3)\n",
    "q200_p_val = 1-scipy.stats.chi2.cdf(t_stat_q200,  len(table_6_df)-3)"
   ]
  },
  {
   "cell_type": "code",
   "execution_count": 181,
   "id": "48661501",
   "metadata": {},
   "outputs": [
    {
     "data": {
      "text/plain": [
       "0.11454366408069061"
      ]
     },
     "execution_count": 181,
     "metadata": {},
     "output_type": "execute_result"
    }
   ],
   "source": [
    "q200_p_val"
   ]
  },
  {
   "cell_type": "markdown",
   "id": "32ccee87",
   "metadata": {},
   "source": [
    "P-value for the bivariate case (q = 0.2) actually has a lower p-value than the q=0 independent model in this sample.  \n",
    "Q=0.1 provides a better fit"
   ]
  }
 ],
 "metadata": {
  "kernelspec": {
   "display_name": "Python 3 (ipykernel)",
   "language": "python",
   "name": "python3"
  },
  "language_info": {
   "codemirror_mode": {
    "name": "ipython",
    "version": 3
   },
   "file_extension": ".py",
   "mimetype": "text/x-python",
   "name": "python",
   "nbconvert_exporter": "python",
   "pygments_lexer": "ipython3",
   "version": "3.9.6"
  }
 },
 "nbformat": 4,
 "nbformat_minor": 5
}
