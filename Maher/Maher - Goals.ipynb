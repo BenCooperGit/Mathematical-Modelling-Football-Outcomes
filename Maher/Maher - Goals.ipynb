{
 "cells": [
  {
   "cell_type": "code",
   "execution_count": 1,
   "id": "b27788e1",
   "metadata": {},
   "outputs": [],
   "source": [
    "import pandas as pd\n",
    "import glob\n",
    "import numpy as np\n",
    "from scipy.optimize import minimize\n",
    "import os\n",
    "from scipy.stats import poisson\n",
    "from collections import Counter"
   ]
  },
  {
   "cell_type": "code",
   "execution_count": 2,
   "id": "d5413c66",
   "metadata": {},
   "outputs": [
    {
     "data": {
      "text/html": [
       "<div>\n",
       "<style scoped>\n",
       "    .dataframe tbody tr th:only-of-type {\n",
       "        vertical-align: middle;\n",
       "    }\n",
       "\n",
       "    .dataframe tbody tr th {\n",
       "        vertical-align: top;\n",
       "    }\n",
       "\n",
       "    .dataframe thead th {\n",
       "        text-align: right;\n",
       "    }\n",
       "</style>\n",
       "<table border=\"1\" class=\"dataframe\">\n",
       "  <thead>\n",
       "    <tr style=\"text-align: right;\">\n",
       "      <th></th>\n",
       "      <th>Div</th>\n",
       "      <th>Date</th>\n",
       "      <th>HomeTeam</th>\n",
       "      <th>AwayTeam</th>\n",
       "      <th>FTHG</th>\n",
       "      <th>FTAG</th>\n",
       "      <th>FTR</th>\n",
       "      <th>HTHG</th>\n",
       "      <th>HTAG</th>\n",
       "      <th>HTR</th>\n",
       "      <th>...</th>\n",
       "      <th>BbAv&lt;2.5</th>\n",
       "      <th>BbAH</th>\n",
       "      <th>BbAHh</th>\n",
       "      <th>BbMxAHH</th>\n",
       "      <th>BbAvAHH</th>\n",
       "      <th>BbMxAHA</th>\n",
       "      <th>BbAvAHA</th>\n",
       "      <th>PSCH</th>\n",
       "      <th>PSCD</th>\n",
       "      <th>PSCA</th>\n",
       "    </tr>\n",
       "  </thead>\n",
       "  <tbody>\n",
       "    <tr>\n",
       "      <th>0</th>\n",
       "      <td>E0</td>\n",
       "      <td>11/08/2017</td>\n",
       "      <td>Arsenal</td>\n",
       "      <td>Leicester</td>\n",
       "      <td>4</td>\n",
       "      <td>3</td>\n",
       "      <td>H</td>\n",
       "      <td>2</td>\n",
       "      <td>2</td>\n",
       "      <td>D</td>\n",
       "      <td>...</td>\n",
       "      <td>2.32</td>\n",
       "      <td>21</td>\n",
       "      <td>-1.00</td>\n",
       "      <td>1.91</td>\n",
       "      <td>1.85</td>\n",
       "      <td>2.10</td>\n",
       "      <td>2.02</td>\n",
       "      <td>1.49</td>\n",
       "      <td>4.73</td>\n",
       "      <td>7.25</td>\n",
       "    </tr>\n",
       "    <tr>\n",
       "      <th>1</th>\n",
       "      <td>E0</td>\n",
       "      <td>12/08/2017</td>\n",
       "      <td>Brighton</td>\n",
       "      <td>Man City</td>\n",
       "      <td>0</td>\n",
       "      <td>2</td>\n",
       "      <td>A</td>\n",
       "      <td>0</td>\n",
       "      <td>0</td>\n",
       "      <td>D</td>\n",
       "      <td>...</td>\n",
       "      <td>2.27</td>\n",
       "      <td>20</td>\n",
       "      <td>1.50</td>\n",
       "      <td>1.95</td>\n",
       "      <td>1.91</td>\n",
       "      <td>2.01</td>\n",
       "      <td>1.96</td>\n",
       "      <td>11.75</td>\n",
       "      <td>6.15</td>\n",
       "      <td>1.29</td>\n",
       "    </tr>\n",
       "    <tr>\n",
       "      <th>2</th>\n",
       "      <td>E0</td>\n",
       "      <td>12/08/2017</td>\n",
       "      <td>Chelsea</td>\n",
       "      <td>Burnley</td>\n",
       "      <td>2</td>\n",
       "      <td>3</td>\n",
       "      <td>A</td>\n",
       "      <td>0</td>\n",
       "      <td>3</td>\n",
       "      <td>A</td>\n",
       "      <td>...</td>\n",
       "      <td>2.23</td>\n",
       "      <td>20</td>\n",
       "      <td>-1.75</td>\n",
       "      <td>2.03</td>\n",
       "      <td>1.97</td>\n",
       "      <td>1.95</td>\n",
       "      <td>1.90</td>\n",
       "      <td>1.33</td>\n",
       "      <td>5.40</td>\n",
       "      <td>12.25</td>\n",
       "    </tr>\n",
       "    <tr>\n",
       "      <th>3</th>\n",
       "      <td>E0</td>\n",
       "      <td>12/08/2017</td>\n",
       "      <td>Crystal Palace</td>\n",
       "      <td>Huddersfield</td>\n",
       "      <td>0</td>\n",
       "      <td>3</td>\n",
       "      <td>A</td>\n",
       "      <td>0</td>\n",
       "      <td>2</td>\n",
       "      <td>A</td>\n",
       "      <td>...</td>\n",
       "      <td>1.72</td>\n",
       "      <td>18</td>\n",
       "      <td>-0.75</td>\n",
       "      <td>2.10</td>\n",
       "      <td>2.05</td>\n",
       "      <td>1.86</td>\n",
       "      <td>1.83</td>\n",
       "      <td>1.79</td>\n",
       "      <td>3.56</td>\n",
       "      <td>5.51</td>\n",
       "    </tr>\n",
       "    <tr>\n",
       "      <th>4</th>\n",
       "      <td>E0</td>\n",
       "      <td>12/08/2017</td>\n",
       "      <td>Everton</td>\n",
       "      <td>Stoke</td>\n",
       "      <td>1</td>\n",
       "      <td>0</td>\n",
       "      <td>H</td>\n",
       "      <td>1</td>\n",
       "      <td>0</td>\n",
       "      <td>H</td>\n",
       "      <td>...</td>\n",
       "      <td>1.76</td>\n",
       "      <td>19</td>\n",
       "      <td>-0.75</td>\n",
       "      <td>1.94</td>\n",
       "      <td>1.90</td>\n",
       "      <td>2.01</td>\n",
       "      <td>1.98</td>\n",
       "      <td>1.82</td>\n",
       "      <td>3.49</td>\n",
       "      <td>5.42</td>\n",
       "    </tr>\n",
       "  </tbody>\n",
       "</table>\n",
       "<p>5 rows × 65 columns</p>\n",
       "</div>"
      ],
      "text/plain": [
       "  Div        Date        HomeTeam      AwayTeam  FTHG  FTAG FTR  HTHG  HTAG  \\\n",
       "0  E0  11/08/2017         Arsenal     Leicester     4     3   H     2     2   \n",
       "1  E0  12/08/2017        Brighton      Man City     0     2   A     0     0   \n",
       "2  E0  12/08/2017         Chelsea       Burnley     2     3   A     0     3   \n",
       "3  E0  12/08/2017  Crystal Palace  Huddersfield     0     3   A     0     2   \n",
       "4  E0  12/08/2017         Everton         Stoke     1     0   H     1     0   \n",
       "\n",
       "  HTR  ... BbAv<2.5  BbAH  BbAHh  BbMxAHH  BbAvAHH  BbMxAHA  BbAvAHA   PSCH  \\\n",
       "0   D  ...     2.32    21  -1.00     1.91     1.85     2.10     2.02   1.49   \n",
       "1   D  ...     2.27    20   1.50     1.95     1.91     2.01     1.96  11.75   \n",
       "2   A  ...     2.23    20  -1.75     2.03     1.97     1.95     1.90   1.33   \n",
       "3   A  ...     1.72    18  -0.75     2.10     2.05     1.86     1.83   1.79   \n",
       "4   H  ...     1.76    19  -0.75     1.94     1.90     2.01     1.98   1.82   \n",
       "\n",
       "   PSCD   PSCA  \n",
       "0  4.73   7.25  \n",
       "1  6.15   1.29  \n",
       "2  5.40  12.25  \n",
       "3  3.56   5.51  \n",
       "4  3.49   5.42  \n",
       "\n",
       "[5 rows x 65 columns]"
      ]
     },
     "execution_count": 2,
     "metadata": {},
     "output_type": "execute_result"
    }
   ],
   "source": [
    "path =r'..\\\\data'\n",
    "epl1718 = pd.read_csv(path+\"\\\\football-data EPL 17-18.csv\")\n",
    "dataset = epl1718\n",
    "dataset.head()"
   ]
  },
  {
   "cell_type": "code",
   "execution_count": 3,
   "id": "e65d3b09",
   "metadata": {},
   "outputs": [
    {
     "data": {
      "text/plain": [
       "20"
      ]
     },
     "execution_count": 3,
     "metadata": {},
     "output_type": "execute_result"
    }
   ],
   "source": [
    "teams = dataset['HomeTeam'].unique()\n",
    "n_teams = len(teams)\n",
    "n_teams"
   ]
  },
  {
   "cell_type": "markdown",
   "id": "ad6fa584",
   "metadata": {},
   "source": [
    "Model Specification: (Home Team Attack, Away Team Defense, Home Team Attack, Away Team Defense)"
   ]
  },
  {
   "cell_type": "markdown",
   "id": "0da8cb9f",
   "metadata": {},
   "source": [
    "# Model 4: (alpha_i, beta_i, gamma_i, delta_i)"
   ]
  },
  {
   "cell_type": "markdown",
   "id": "9c302626",
   "metadata": {},
   "source": [
    "Every team has 4 unique parameters:\n",
    "   * Attack at home\n",
    "   * Attack away\n",
    "   * Defense at home\n",
    "   * Defense away"
   ]
  },
  {
   "cell_type": "code",
   "execution_count": 141,
   "id": "4c56476b",
   "metadata": {},
   "outputs": [],
   "source": [
    "init_vals = np.concatenate((\n",
    "                              np.random.uniform(0,1,(n_teams)),  # attack home strength\n",
    "                              np.random.uniform(0,-1,(n_teams)),  # defence away strength\n",
    "                              np.random.uniform(0,1,(n_teams)),  # attack away strength\n",
    "                              np.random.uniform(0,-1,(n_teams))  # defense home strength\n",
    "                             ))"
   ]
  },
  {
   "cell_type": "code",
   "execution_count": 142,
   "id": "31b4995e",
   "metadata": {},
   "outputs": [],
   "source": [
    "def match_log_likelihood(x_k, y_k, alpha_ik, beta_jk, alpha_jk, beta_ik):\n",
    "    lambda_k = np.exp(alpha_ik + beta_jk)\n",
    "    mu_k = np.exp(alpha_jk + beta_ik)\n",
    "    return (\n",
    "        np.log(poisson.pmf(x_k, lambda_k))\n",
    "        + np.log(poisson.pmf(y_k, mu_k))\n",
    "    )"
   ]
  },
  {
   "cell_type": "code",
   "execution_count": 148,
   "id": "fb123f6e",
   "metadata": {},
   "outputs": [],
   "source": [
    "def log_likelhood(params):\n",
    "    score_h_coefs = dict(zip(teams, params[:n_teams]))\n",
    "    defend_a_coefs = dict(zip(teams, params[n_teams:(2*n_teams)]))\n",
    "    score_a_coefs = dict(zip(teams, params[(2*n_teams):(3*n_teams)]))\n",
    "    defend_h_coefs = dict(zip(teams, params[(3*n_teams):]))\n",
    "    \n",
    "    log_like = [match_log_likelihood(row.FTHG, row.FTAG, score_h_coefs[row.HomeTeam], defend_a_coefs[row.AwayTeam], \n",
    "                                     score_a_coefs[row.AwayTeam], defend_h_coefs[row.HomeTeam]) \n",
    "                for row in dataset.itertuples()]\n",
    "    \n",
    "    return -sum(log_like)"
   ]
  },
  {
   "cell_type": "code",
   "execution_count": 149,
   "id": "3883da4e",
   "metadata": {},
   "outputs": [],
   "source": [
    "def equality_constraint_1(params):\n",
    "    return (sum(params[:n_teams]) - sum(params[n_teams:(2*n_teams)]))"
   ]
  },
  {
   "cell_type": "code",
   "execution_count": 150,
   "id": "52342efb",
   "metadata": {},
   "outputs": [],
   "source": [
    "def equality_constraint_2(params):\n",
    "    return (sum(params[(2*n_teams):(3*n_teams)]) - sum(params[(3*n_teams):]))"
   ]
  },
  {
   "cell_type": "code",
   "execution_count": 151,
   "id": "6fbc8dd1",
   "metadata": {},
   "outputs": [
    {
     "name": "stderr",
     "output_type": "stream",
     "text": [
      "C:\\Users\\benja\\AppData\\Local\\Temp/ipykernel_13148/519397652.py:5: RuntimeWarning: divide by zero encountered in log\n",
      "  np.log(poisson.pmf(x_k, lambda_k))\n",
      "C:\\Users\\benja\\AppData\\Local\\Temp/ipykernel_13148/519397652.py:6: RuntimeWarning: divide by zero encountered in log\n",
      "  + np.log(poisson.pmf(y_k, mu_k))\n"
     ]
    },
    {
     "name": "stdout",
     "output_type": "stream",
     "text": [
      "Iteration limit reached    (Exit mode 9)\n",
      "            Current function value: 1032.965843945449\n",
      "            Iterations: 100\n",
      "            Function evaluations: 8219\n",
      "            Gradient evaluations: 100\n"
     ]
    }
   ],
   "source": [
    "opt_params_m4 = minimize(log_likelhood, init_vals, constraints=[{'type':'eq', 'fun': equality_constraint_1}, \n",
    "                                                                                     {'type':'eq', 'fun': equality_constraint_2}], options={'disp': True, 'maxiter':100})"
   ]
  },
  {
   "cell_type": "code",
   "execution_count": 153,
   "id": "bf24a1b9",
   "metadata": {},
   "outputs": [],
   "source": [
    "parameters_m4 = dict(zip([\"attack_h_\"+team for team in teams] + \n",
    "                        [\"defence_a_\"+team for team in teams] +\n",
    "                        ['attack_a_'+team for team in teams] +\n",
    "                         ['defense_h_'+team for team in teams],\n",
    "                        opt_params_m4.x))"
   ]
  },
  {
   "cell_type": "code",
   "execution_count": 154,
   "id": "64b54aa4",
   "metadata": {},
   "outputs": [
    {
     "name": "stdout",
     "output_type": "stream",
     "text": [
      "Model 1b Log-Likelihood: 1032.965843945449\n"
     ]
    }
   ],
   "source": [
    "Model_4_ll = opt_params_m4[\"fun\"]\n",
    "print(f\"Model 1b Log-Likelihood: {Model_4_ll}\")"
   ]
  },
  {
   "cell_type": "markdown",
   "id": "35aae52e",
   "metadata": {},
   "source": [
    "Model Specification: (Home Team Attack, Away Team Defense, Home Team Attack, Away Team Defense)"
   ]
  },
  {
   "cell_type": "markdown",
   "id": "dd73eb8f",
   "metadata": {},
   "source": [
    "# Model 2: (alpha_i, beta_i, kappa\\*beta_i, kappa\\*alpha_i)"
   ]
  },
  {
   "cell_type": "markdown",
   "id": "39926b52",
   "metadata": {},
   "source": [
    "**Every team has 2 unique parameters:**\n",
    "* Attack\n",
    "* Defense  \n",
    "\n",
    "**1 Global parameter:**\n",
    "* kappa - home adv same for every team"
   ]
  },
  {
   "cell_type": "code",
   "execution_count": 121,
   "id": "bc2a3bd3",
   "metadata": {},
   "outputs": [],
   "source": [
    "init_vals = np.concatenate((\n",
    "                              np.random.uniform(0,1,(n_teams)),  # attack strength\n",
    "                              np.random.uniform(0,-1,(n_teams)),  # defence strength\n",
    "                              [1.]  # Home effect\n",
    "                             ))"
   ]
  },
  {
   "cell_type": "code",
   "execution_count": 122,
   "id": "e6b5da9f",
   "metadata": {},
   "outputs": [],
   "source": [
    "def match_log_likelihood(x_k, y_k, alpha_ik, beta_jk, alpha_jk, beta_ik, kappa):\n",
    "    lambda_k = np.exp(alpha_ik + beta_jk + kappa)\n",
    "    mu_k = np.exp(alpha_jk + beta_ik)\n",
    "    \n",
    "    return (\n",
    "        np.log(poisson.pmf(x_k, lambda_k))\n",
    "        + np.log(poisson.pmf(y_k, mu_k))\n",
    "    )"
   ]
  },
  {
   "cell_type": "code",
   "execution_count": 123,
   "id": "eba9c261",
   "metadata": {},
   "outputs": [],
   "source": [
    "def log_likelhood(params):\n",
    "    score_coefs = dict(zip(teams, params[:n_teams]))\n",
    "    defend_coefs = dict(zip(teams, params[n_teams:(2*n_teams)]))\n",
    "    kappa = params[-1]\n",
    "    \n",
    "    log_like = [match_log_likelihood(row.FTHG, row.FTAG, score_coefs[row.HomeTeam], defend_coefs[row.AwayTeam], \n",
    "                                     score_coefs[row.AwayTeam], defend_coefs[row.HomeTeam], kappa) \n",
    "                for row in dataset.itertuples()]\n",
    "    \n",
    "    return -sum(log_like)"
   ]
  },
  {
   "cell_type": "code",
   "execution_count": 124,
   "id": "96ea1840",
   "metadata": {},
   "outputs": [],
   "source": [
    "def equality_constraint(params):\n",
    "    return (sum(params[:n_teams]) - sum(params[n_teams:-1]))"
   ]
  },
  {
   "cell_type": "code",
   "execution_count": 125,
   "id": "46d50c78",
   "metadata": {},
   "outputs": [
    {
     "name": "stderr",
     "output_type": "stream",
     "text": [
      "C:\\Users\\benja\\AppData\\Local\\Temp/ipykernel_13148/958664064.py:5: RuntimeWarning: divide by zero encountered in log\n",
      "  np.log(poisson.pmf(x_k, lambda_k))\n",
      "C:\\Users\\benja\\AppData\\Local\\Temp/ipykernel_13148/958664064.py:6: RuntimeWarning: divide by zero encountered in log\n",
      "  + np.log(poisson.pmf(y_k, mu_k))\n"
     ]
    },
    {
     "name": "stdout",
     "output_type": "stream",
     "text": [
      "Optimization terminated successfully    (Exit mode 0)\n",
      "            Current function value: 1052.3376822815933\n",
      "            Iterations: 53\n",
      "            Function evaluations: 2309\n",
      "            Gradient evaluations: 53\n"
     ]
    }
   ],
   "source": [
    "opt_params_m2 = minimize(log_likelhood, init_vals, constraints={'type':'eq', 'fun': equality_constraint}, options={'disp': True, 'maxiter':100})"
   ]
  },
  {
   "cell_type": "code",
   "execution_count": 126,
   "id": "343acb53",
   "metadata": {},
   "outputs": [],
   "source": [
    "parameters_m2 = dict(zip([\"attack_\"+team for team in teams] + \n",
    "                        [\"defence_\"+team for team in teams] +\n",
    "                        ['home_adv'],\n",
    "                        opt_params_m2.x))"
   ]
  },
  {
   "cell_type": "code",
   "execution_count": 127,
   "id": "25f94d68",
   "metadata": {},
   "outputs": [
    {
     "name": "stdout",
     "output_type": "stream",
     "text": [
      "Model 2 Log-Likelihood: 1052.3376822815933\n"
     ]
    }
   ],
   "source": [
    "Model_2_ll = opt_params_m2[\"fun\"]\n",
    "print(f\"Model 2 Log-Likelihood: {Model_2_ll}\")"
   ]
  },
  {
   "cell_type": "markdown",
   "id": "460d003b",
   "metadata": {},
   "source": [
    "# Model 0: (alpha, beta, gamma, delta)"
   ]
  },
  {
   "cell_type": "markdown",
   "id": "c7b004c8",
   "metadata": {},
   "source": [
    "**4 Global parameters:**\n",
    "* Attack when at home\n",
    "* Defense when at home\n",
    "* Attack when away\n",
    "* Defense when at home"
   ]
  },
  {
   "cell_type": "code",
   "execution_count": 99,
   "id": "ef691502",
   "metadata": {},
   "outputs": [],
   "source": [
    "init_vals = [1.,  # Home Attack\n",
    "             -1.,  # Home Defense\n",
    "             1.,  # Away Attack\n",
    "             -1.]  # Away Defense"
   ]
  },
  {
   "cell_type": "code",
   "execution_count": 100,
   "id": "355f068b",
   "metadata": {},
   "outputs": [],
   "source": [
    "def match_log_likelihood(x_k, y_k, alpha_ik, beta_jk, alpha_jk, beta_ik):\n",
    "    lambda_k = np.exp(alpha_ik + beta_jk)\n",
    "    mu_k = np.exp(alpha_jk + beta_ik)\n",
    "    return (\n",
    "        np.log(poisson.pmf(x_k, lambda_k))\n",
    "        + np.log(poisson.pmf(y_k, mu_k))\n",
    "    )"
   ]
  },
  {
   "cell_type": "code",
   "execution_count": 101,
   "id": "6f02147f",
   "metadata": {},
   "outputs": [],
   "source": [
    "def log_likelhood(params):\n",
    "    home_attack = params[0]\n",
    "    home_defense = params[1]\n",
    "    away_attack = params[2]\n",
    "    away_defense = params[3]    \n",
    "    \n",
    "    log_like = [match_log_likelihood(row.FTHG, row.FTAG, home_attack, away_defense, \n",
    "                                     away_attack, home_defense) \n",
    "                for row in dataset.itertuples()]\n",
    "    \n",
    "    return -sum(log_like)"
   ]
  },
  {
   "cell_type": "code",
   "execution_count": 102,
   "id": "da2de952",
   "metadata": {},
   "outputs": [],
   "source": [
    "def equality_constraint_1(params):\n",
    "    return (params[0] - params[-1])\n",
    "\n",
    "def equality_constraint_2(params):\n",
    "    return (params[1] - params[2])"
   ]
  },
  {
   "cell_type": "code",
   "execution_count": 103,
   "id": "30aff26b",
   "metadata": {},
   "outputs": [
    {
     "name": "stderr",
     "output_type": "stream",
     "text": [
      "C:\\Users\\benja\\AppData\\Local\\Temp/ipykernel_13148/519397652.py:5: RuntimeWarning: divide by zero encountered in log\n",
      "  np.log(poisson.pmf(x_k, lambda_k))\n",
      "C:\\Users\\benja\\AppData\\Local\\Temp/ipykernel_13148/519397652.py:6: RuntimeWarning: divide by zero encountered in log\n",
      "  + np.log(poisson.pmf(y_k, mu_k))\n"
     ]
    },
    {
     "name": "stdout",
     "output_type": "stream",
     "text": [
      "Optimization terminated successfully    (Exit mode 0)\n",
      "            Current function value: 1155.5755005186918\n",
      "            Iterations: 6\n",
      "            Function evaluations: 36\n",
      "            Gradient evaluations: 6\n"
     ]
    }
   ],
   "source": [
    "opt_params_m0 = minimize(log_likelhood, init_vals, \n",
    "                         constraints=[{'type':'eq', 'fun': equality_constraint_1}, {'type':'eq', 'fun': equality_constraint_2}], \n",
    "                         options={'disp': True, 'maxiter':100})"
   ]
  },
  {
   "cell_type": "code",
   "execution_count": 104,
   "id": "77c9d112",
   "metadata": {},
   "outputs": [],
   "source": [
    "parameters = {}\n",
    "for team in teams:\n",
    "    parameters[f\"attack_home_{team}\"] = opt_params_m0.x[0]\n",
    "    \n",
    "for team in teams:\n",
    "    parameters[f\"defense_home_{team}\"] = opt_params_m0.x[1]\n",
    "\n",
    "for team in teams:\n",
    "    parameters[f\"attack_away_{team}\"] = opt_params_m0.x[2]\n",
    "    \n",
    "for team in teams:\n",
    "    parameters[f\"defende_away_{team}\"] = opt_params_m0.x[3]"
   ]
  },
  {
   "cell_type": "code",
   "execution_count": 105,
   "id": "140db041",
   "metadata": {},
   "outputs": [
    {
     "name": "stdout",
     "output_type": "stream",
     "text": [
      "Model 0 Log-Likelihood: 1155.5755005186918\n"
     ]
    }
   ],
   "source": [
    "Model_0_ll = opt_params_m0[\"fun\"]\n",
    "print(f\"Model 0 Log-Likelihood: {Model_0_ll}\")"
   ]
  },
  {
   "cell_type": "markdown",
   "id": "631bf287",
   "metadata": {},
   "source": [
    "# Model 1A: (alpha_i, beta, gamma, alpha_i)"
   ]
  },
  {
   "cell_type": "markdown",
   "id": "892e28ae",
   "metadata": {},
   "source": [
    "**Every team has 1 unique parameters:**\n",
    "* Attack  \n",
    "\n",
    "**2 Global parameter:**\n",
    "* Defense when away\n",
    "* Defense at home"
   ]
  },
  {
   "cell_type": "code",
   "execution_count": 106,
   "id": "ad286328",
   "metadata": {},
   "outputs": [],
   "source": [
    "init_vals = np.concatenate((\n",
    "                              np.random.uniform(0,1,(n_teams)),  # attack strength\n",
    "                              [-1., -1.]  # defence strength at home, defence strength away\n",
    "                             ))"
   ]
  },
  {
   "cell_type": "code",
   "execution_count": 107,
   "id": "4f0e2f0a",
   "metadata": {},
   "outputs": [],
   "source": [
    "def match_log_likelihood(x_k, y_k, alpha_ik, beta_jk, alpha_jk, beta_ik):\n",
    "    lambda_k = np.exp(alpha_ik + beta_jk)\n",
    "    mu_k = np.exp(alpha_jk + beta_ik)\n",
    "    return (\n",
    "        np.log(poisson.pmf(x_k, lambda_k))\n",
    "        + np.log(poisson.pmf(y_k, mu_k))\n",
    "    )"
   ]
  },
  {
   "cell_type": "code",
   "execution_count": 108,
   "id": "669619ad",
   "metadata": {},
   "outputs": [],
   "source": [
    "def log_likelhood(params):\n",
    "    score_coefs = dict(zip(teams, params[:n_teams]))\n",
    "    defend_h_coefs, defend_a_coefs = params[-2], params[-1]\n",
    "    \n",
    "    log_like = [match_log_likelihood(row.FTHG, row.FTAG, score_coefs[row.HomeTeam], defend_a_coefs, \n",
    "                                     score_coefs[row.AwayTeam], defend_h_coefs) \n",
    "                for row in dataset.itertuples()]\n",
    "    \n",
    "    return -sum(log_like)"
   ]
  },
  {
   "cell_type": "code",
   "execution_count": 109,
   "id": "1e0b05a2",
   "metadata": {},
   "outputs": [],
   "source": [
    "def equality_constraint(params):\n",
    "    return (sum(params[:n_teams]) - n_teams*params[-1])"
   ]
  },
  {
   "cell_type": "code",
   "execution_count": 110,
   "id": "11dea348",
   "metadata": {
    "scrolled": true
   },
   "outputs": [
    {
     "name": "stderr",
     "output_type": "stream",
     "text": [
      "C:\\Users\\benja\\AppData\\Local\\Temp/ipykernel_13148/519397652.py:5: RuntimeWarning: divide by zero encountered in log\n",
      "  np.log(poisson.pmf(x_k, lambda_k))\n",
      "C:\\Users\\benja\\AppData\\Local\\Temp/ipykernel_13148/519397652.py:6: RuntimeWarning: divide by zero encountered in log\n",
      "  + np.log(poisson.pmf(y_k, mu_k))\n"
     ]
    },
    {
     "name": "stdout",
     "output_type": "stream",
     "text": [
      "Optimization terminated successfully    (Exit mode 0)\n",
      "            Current function value: 1080.1266123528198\n",
      "            Iterations: 29\n",
      "            Function evaluations: 709\n",
      "            Gradient evaluations: 29\n"
     ]
    }
   ],
   "source": [
    "opt_params_m1a = minimize(log_likelhood, init_vals, constraints={'type':'eq', 'fun': equality_constraint}, options={'disp': True, 'maxiter':100})"
   ]
  },
  {
   "cell_type": "code",
   "execution_count": 111,
   "id": "92ba3714",
   "metadata": {},
   "outputs": [],
   "source": [
    "parameters = dict(zip([\"attack_\"+team for team in teams],\n",
    "                        opt_params_m1a.x[:n_teams]))\n",
    "for team in teams:\n",
    "    parameters[f\"defense_home_{team}\"] = opt_params_m1a.x[-2]\n",
    "    \n",
    "for team in teams:\n",
    "    parameters[f\"defense_away_{team}\"] = opt_params_m1a.x[-1]"
   ]
  },
  {
   "cell_type": "code",
   "execution_count": 112,
   "id": "7c129c1c",
   "metadata": {},
   "outputs": [
    {
     "name": "stdout",
     "output_type": "stream",
     "text": [
      "Model 1a Log-Likelihood: 1080.1266123528198\n"
     ]
    }
   ],
   "source": [
    "Model_1a_ll = opt_params_m1a[\"fun\"]\n",
    "print(f\"Model 1a Log-Likelihood: {Model_1a_ll}\")"
   ]
  },
  {
   "cell_type": "markdown",
   "id": "5cccfaf7",
   "metadata": {},
   "source": [
    "# Model 1B: (alpha, beta_i, beta_i, delta)"
   ]
  },
  {
   "cell_type": "markdown",
   "id": "a5419309",
   "metadata": {},
   "source": [
    "**Every team has 1 unique parameters:**\n",
    "* Defense  \n",
    "\n",
    "**2 Global parameters:**\n",
    "* Attack when away\n",
    "* Attack at home"
   ]
  },
  {
   "cell_type": "code",
   "execution_count": 37,
   "id": "05547a1c",
   "metadata": {},
   "outputs": [],
   "source": [
    "init_vals = np.concatenate((\n",
    "                              np.random.uniform(0,-1,(n_teams)),  # defense strength\n",
    "                              [1., 1.]  # attack strength at home, attack strength away\n",
    "                             ))"
   ]
  },
  {
   "cell_type": "code",
   "execution_count": 38,
   "id": "2cb0df1a",
   "metadata": {},
   "outputs": [],
   "source": [
    "def match_log_likelihood(x_k, y_k, alpha_ik, beta_jk, alpha_jk, beta_ik):\n",
    "    lambda_k = np.exp(alpha_ik + beta_jk)\n",
    "    mu_k = np.exp(alpha_jk + beta_ik)\n",
    "    return (\n",
    "        np.log(poisson.pmf(x_k, lambda_k))\n",
    "        + np.log(poisson.pmf(y_k, mu_k))\n",
    "    )"
   ]
  },
  {
   "cell_type": "code",
   "execution_count": 39,
   "id": "fa00a1f6",
   "metadata": {},
   "outputs": [],
   "source": [
    "def log_likelhood(params):\n",
    "    defend_coefs = dict(zip(teams, params[:n_teams]))\n",
    "    attack_h_coef, attack_a_coef = params[-2], params[-1]\n",
    "    \n",
    "    log_like = [match_log_likelihood(row.FTHG, row.FTAG, attack_h_coef, defend_coefs[row.HomeTeam], \n",
    "                                     attack_a_coef, defend_coefs[row.AwayTeam]) \n",
    "                for row in dataset.itertuples()]\n",
    "    \n",
    "    return -sum(log_like)"
   ]
  },
  {
   "cell_type": "code",
   "execution_count": 113,
   "id": "b710d4e6",
   "metadata": {},
   "outputs": [],
   "source": [
    "def equality_constraint(params):\n",
    "    return (sum(params[:n_teams]) - n_teams*params[-2])"
   ]
  },
  {
   "cell_type": "code",
   "execution_count": 114,
   "id": "d36b4022",
   "metadata": {},
   "outputs": [
    {
     "name": "stderr",
     "output_type": "stream",
     "text": [
      "C:\\Users\\benja\\AppData\\Local\\Temp/ipykernel_13148/519397652.py:5: RuntimeWarning: divide by zero encountered in log\n",
      "  np.log(poisson.pmf(x_k, lambda_k))\n",
      "C:\\Users\\benja\\AppData\\Local\\Temp/ipykernel_13148/519397652.py:6: RuntimeWarning: divide by zero encountered in log\n",
      "  + np.log(poisson.pmf(y_k, mu_k))\n"
     ]
    },
    {
     "name": "stdout",
     "output_type": "stream",
     "text": [
      "Optimization terminated successfully    (Exit mode 0)\n",
      "            Current function value: 1080.126612410209\n",
      "            Iterations: 30\n",
      "            Function evaluations: 733\n",
      "            Gradient evaluations: 30\n"
     ]
    }
   ],
   "source": [
    "opt_params_m1b = minimize(log_likelhood, init_vals, constraints={'type':'eq', 'fun': equality_constraint}, options={'disp': True, 'maxiter':100})"
   ]
  },
  {
   "cell_type": "code",
   "execution_count": 115,
   "id": "699914e2",
   "metadata": {},
   "outputs": [],
   "source": [
    "parameters = dict(zip([\"defense_\"+team for team in teams],\n",
    "                        opt_params_m1a.x[:n_teams]))\n",
    "for team in teams:\n",
    "    parameters[f\"attack_home_{team}\"] = opt_params_m1a.x[-2]\n",
    "    \n",
    "for team in teams:\n",
    "    parameters[f\"attack_away_{team}\"] = opt_params_m1a.x[-1]"
   ]
  },
  {
   "cell_type": "code",
   "execution_count": 116,
   "id": "7c5f9950",
   "metadata": {},
   "outputs": [
    {
     "name": "stdout",
     "output_type": "stream",
     "text": [
      "Model 1b Log-Likelihood: 1080.126612410209\n"
     ]
    }
   ],
   "source": [
    "Model_1b_ll = opt_params_m1b[\"fun\"]\n",
    "print(f\"Model 1b Log-Likelihood: {Model_1b_ll}\")"
   ]
  },
  {
   "cell_type": "markdown",
   "id": "8d5d7691",
   "metadata": {},
   "source": [
    "# Model 3C: (alpha_i, beta_i, gamma_i, alpha_i)"
   ]
  },
  {
   "cell_type": "markdown",
   "id": "e387bbd0",
   "metadata": {},
   "source": [
    "**Every team has 3 unique parameters:**  \n",
    "* Attack\n",
    "* Defense at home  \n",
    "* Defense away"
   ]
  },
  {
   "cell_type": "code",
   "execution_count": 44,
   "id": "51d53d9f",
   "metadata": {},
   "outputs": [],
   "source": [
    "init_vals = np.concatenate((\n",
    "                              np.random.uniform(0,1,(n_teams)),  # attack strength\n",
    "                              np.random.uniform(0,-1,(n_teams)),  # defence home strength\n",
    "                              np.random.uniform(0,-1,(n_teams)),  # defence away strength\n",
    "                             ))"
   ]
  },
  {
   "cell_type": "code",
   "execution_count": 45,
   "id": "2dbc9cc7",
   "metadata": {},
   "outputs": [],
   "source": [
    "def match_log_likelihood(x_k, y_k, alpha_ik, beta_jk, alpha_jk, beta_ik):\n",
    "    lambda_k = np.exp(alpha_ik + beta_jk)\n",
    "    mu_k = np.exp(alpha_jk + beta_ik)\n",
    "    return (\n",
    "        np.log(poisson.pmf(x_k, lambda_k))\n",
    "        + np.log(poisson.pmf(y_k, mu_k))\n",
    "    )"
   ]
  },
  {
   "cell_type": "code",
   "execution_count": 46,
   "id": "cbb7e91b",
   "metadata": {},
   "outputs": [],
   "source": [
    "def log_likelhood(params):\n",
    "    score_coefs = dict(zip(teams, params[:n_teams]))\n",
    "    defend_h_coefs = dict(zip(teams, params[n_teams:(2*n_teams)]))\n",
    "    defend_a_coefs = dict(zip(teams, params[(2*n_teams):]))\n",
    "    \n",
    "    log_like = [match_log_likelihood(row.FTHG, row.FTAG, score_coefs[row.HomeTeam], defend_a_coefs[row.AwayTeam], \n",
    "                                     score_coefs[row.AwayTeam], defend_h_coefs[row.HomeTeam]) \n",
    "                for row in dataset.itertuples()]\n",
    "    \n",
    "    return -sum(log_like)"
   ]
  },
  {
   "cell_type": "code",
   "execution_count": 47,
   "id": "24bcf097",
   "metadata": {},
   "outputs": [],
   "source": [
    "def equality_constraint(params):\n",
    "    return (sum(params[:n_teams]) - params[(2*n_teams):])"
   ]
  },
  {
   "cell_type": "code",
   "execution_count": 48,
   "id": "1f2d03e2",
   "metadata": {},
   "outputs": [
    {
     "name": "stderr",
     "output_type": "stream",
     "text": [
      "C:\\Users\\benja\\AppData\\Local\\Temp/ipykernel_13148/519397652.py:5: RuntimeWarning: divide by zero encountered in log\n",
      "  np.log(poisson.pmf(x_k, lambda_k))\n",
      "C:\\Users\\benja\\AppData\\Local\\Temp/ipykernel_13148/519397652.py:6: RuntimeWarning: divide by zero encountered in log\n",
      "  + np.log(poisson.pmf(y_k, mu_k))\n"
     ]
    },
    {
     "name": "stdout",
     "output_type": "stream",
     "text": [
      "Optimization terminated successfully    (Exit mode 0)\n",
      "            Current function value: 1061.0918210038428\n",
      "            Iterations: 54\n",
      "            Function evaluations: 3358\n",
      "            Gradient evaluations: 54\n"
     ]
    }
   ],
   "source": [
    "opt_params_m3c = minimize(log_likelhood, init_vals, constraints={'type':'eq', 'fun': equality_constraint}, options={'disp': True, 'maxiter':100})"
   ]
  },
  {
   "cell_type": "code",
   "execution_count": 49,
   "id": "90e4c6a4",
   "metadata": {},
   "outputs": [],
   "source": [
    "parameters_m3c = dict(zip([\"attack_\"+team for team in teams] + \n",
    "                        [\"defence_h_\"+team for team in teams] +\n",
    "                        ['defence_a_'+team for team in teams],\n",
    "                        opt_params_m3c.x))"
   ]
  },
  {
   "cell_type": "code",
   "execution_count": 50,
   "id": "07d4b325",
   "metadata": {
    "scrolled": true
   },
   "outputs": [
    {
     "name": "stdout",
     "output_type": "stream",
     "text": [
      "Model 1b Log-Likelihood: 1061.0918210038428\n"
     ]
    }
   ],
   "source": [
    "Model_3c_ll = opt_params_m3c[\"fun\"]\n",
    "print(f\"Model 1b Log-Likelihood: {Model_3c_ll}\")"
   ]
  },
  {
   "cell_type": "markdown",
   "id": "4345ffda",
   "metadata": {},
   "source": [
    "# Model 3D: (alpha_i, beta_i, beta_i, delta_i)"
   ]
  },
  {
   "cell_type": "markdown",
   "id": "ac47ceb4",
   "metadata": {},
   "source": [
    "**Every team has 3 unique parameters:**  \n",
    "* Defense\n",
    "* Attack at home  \n",
    "* Attack away"
   ]
  },
  {
   "cell_type": "code",
   "execution_count": 128,
   "id": "0bb9870e",
   "metadata": {},
   "outputs": [],
   "source": [
    "init_vals = np.concatenate((\n",
    "                              np.random.uniform(0,-1,(n_teams)),  # defence strength\n",
    "                              np.random.uniform(0,1,(n_teams)),  # attack home strength\n",
    "                              np.random.uniform(0,1,(n_teams)),  # attack away strength\n",
    "                             ))"
   ]
  },
  {
   "cell_type": "code",
   "execution_count": 129,
   "id": "1a90e6d4",
   "metadata": {},
   "outputs": [],
   "source": [
    "def match_log_likelihood(x_k, y_k, alpha_ik, beta_jk, alpha_jk, beta_ik):\n",
    "    lambda_k = np.exp(alpha_ik + beta_jk)\n",
    "    mu_k = np.exp(alpha_jk + beta_ik)\n",
    "    return (\n",
    "        np.log(poisson.pmf(x_k, lambda_k))\n",
    "        + np.log(poisson.pmf(y_k, mu_k))\n",
    "    )"
   ]
  },
  {
   "cell_type": "code",
   "execution_count": 130,
   "id": "c3afdc1d",
   "metadata": {},
   "outputs": [],
   "source": [
    "def log_likelhood(params):\n",
    "    defend_coefs = dict(zip(teams, params[:n_teams]))\n",
    "    attack_h_coefs = dict(zip(teams, params[n_teams:(2*n_teams)]))\n",
    "    attack_a_coefs = dict(zip(teams, params[(2*n_teams):]))\n",
    "    \n",
    "    log_like = [match_log_likelihood(row.FTHG, row.FTAG, attack_h_coefs[row.HomeTeam], defend_coefs[row.AwayTeam], \n",
    "                                     attack_a_coefs[row.AwayTeam], defend_coefs[row.HomeTeam]) \n",
    "                for row in dataset.itertuples()]\n",
    "    \n",
    "    return -sum(log_like)"
   ]
  },
  {
   "cell_type": "code",
   "execution_count": 131,
   "id": "a46f7eac",
   "metadata": {},
   "outputs": [],
   "source": [
    "def equality_constraint(params):\n",
    "    return (sum(params[:n_teams]) - params[n_teams:(2*n_teams)])"
   ]
  },
  {
   "cell_type": "code",
   "execution_count": 132,
   "id": "ad6de854",
   "metadata": {},
   "outputs": [
    {
     "name": "stderr",
     "output_type": "stream",
     "text": [
      "C:\\Users\\benja\\AppData\\Local\\Temp/ipykernel_13148/519397652.py:5: RuntimeWarning: divide by zero encountered in log\n",
      "  np.log(poisson.pmf(x_k, lambda_k))\n",
      "C:\\Users\\benja\\AppData\\Local\\Temp/ipykernel_13148/519397652.py:6: RuntimeWarning: divide by zero encountered in log\n",
      "  + np.log(poisson.pmf(y_k, mu_k))\n"
     ]
    },
    {
     "name": "stdout",
     "output_type": "stream",
     "text": [
      "Optimization terminated successfully    (Exit mode 0)\n",
      "            Current function value: 1084.399235279352\n",
      "            Iterations: 57\n",
      "            Function evaluations: 3534\n",
      "            Gradient evaluations: 57\n"
     ]
    }
   ],
   "source": [
    "opt_params_m3d = minimize(log_likelhood, init_vals, constraints={'type':'eq', 'fun': equality_constraint}, options={'disp': True, 'maxiter':100})"
   ]
  },
  {
   "cell_type": "code",
   "execution_count": 133,
   "id": "e35e583d",
   "metadata": {},
   "outputs": [],
   "source": [
    "parameters_m3d = dict(zip([\"defense_\"+team for team in teams] + \n",
    "                        [\"attack_h_\"+team for team in teams] +\n",
    "                        ['attack_a_'+team for team in teams],\n",
    "                        opt_params_m3d.x))"
   ]
  },
  {
   "cell_type": "code",
   "execution_count": 134,
   "id": "136fd761",
   "metadata": {},
   "outputs": [
    {
     "name": "stdout",
     "output_type": "stream",
     "text": [
      "Model 1b Log-Likelihood: 1084.399235279352\n"
     ]
    }
   ],
   "source": [
    "Model_3d_ll = opt_params_m3d[\"fun\"]\n",
    "print(f\"Model 1b Log-Likelihood: {Model_3d_ll}\")"
   ]
  },
  {
   "cell_type": "markdown",
   "id": "65b15e33",
   "metadata": {},
   "source": [
    "# 4 Goodness-of-fit-tests"
   ]
  },
  {
   "cell_type": "markdown",
   "id": "6c21db02",
   "metadata": {},
   "source": [
    "Likelihood ratio test: difference between models log likelihood's is chi2(k=n-1) distributed"
   ]
  },
  {
   "cell_type": "code",
   "execution_count": 58,
   "id": "ee8a2733",
   "metadata": {},
   "outputs": [],
   "source": [
    "ll_increase_4_3d = Model_4_ll - Model_3d_ll\n",
    "ll_increase_4_3c = Model_4_ll - Model_3c_ll\n",
    "ll_increase_3d_2 = Model_3d_ll - Model_2_ll\n",
    "ll_increase_3c_2 = Model_3c_ll - Model_2_ll\n",
    "ll_increase_2_1b = Model_2_ll - Model_1b_ll\n",
    "ll_increase_2_1a = Model_2_ll - Model_1a_ll\n",
    "ll_increase_1b_0 = Model_1b_ll - Model_0_ll\n",
    "ll_increase_1a_0 = Model_1a_ll - Model_0_ll"
   ]
  },
  {
   "cell_type": "code",
   "execution_count": 77,
   "id": "a0230797",
   "metadata": {},
   "outputs": [
    {
     "data": {
      "text/plain": [
       "30.14352720564616"
      ]
     },
     "execution_count": 77,
     "metadata": {},
     "output_type": "execute_result"
    }
   ],
   "source": [
    "scipy.stats.chi2.ppf(0.95, n_teams-1)"
   ]
  },
  {
   "cell_type": "code",
   "execution_count": 98,
   "id": "56cba62e",
   "metadata": {},
   "outputs": [
    {
     "data": {
      "text/plain": [
       "36.19086912927004"
      ]
     },
     "execution_count": 98,
     "metadata": {},
     "output_type": "execute_result"
    }
   ],
   "source": [
    "scipy.stats.chi2.ppf(0.99, n_teams-1)"
   ]
  },
  {
   "cell_type": "markdown",
   "id": "210078b8",
   "metadata": {},
   "source": [
    "Model 2 is judged most appropriate and carried forward for chi-squared goodness-of-fit analysis"
   ]
  },
  {
   "cell_type": "markdown",
   "id": "25a898d4",
   "metadata": {},
   "source": [
    "## Table 4.    Observed and expected frequencies of home and away scores"
   ]
  },
  {
   "cell_type": "code",
   "execution_count": 166,
   "id": "5b10edfd",
   "metadata": {},
   "outputs": [],
   "source": [
    "table_4_df = pd.DataFrame({\"number_of_goals\": [0, 1, 2, 3, \">=4\"], \n",
    "                           \"home_obs\": [sum(dataset[\"FTHG\"]==0), sum(dataset[\"FTHG\"]==1), sum(dataset[\"FTHG\"]==2), sum(dataset[\"FTHG\"]==3), sum(dataset[\"FTHG\"]>=4)], \n",
    "                           \"home_exp\": 0, \n",
    "                           \"away_obs\": [sum(dataset[\"FTAG\"]==0), sum(dataset[\"FTAG\"]==1), sum(dataset[\"FTAG\"]==2), sum(dataset[\"FTAG\"]==3), sum(dataset[\"FTAG\"]>=4)], \n",
    "                           \"away_exp\": 0})"
   ]
  },
  {
   "cell_type": "code",
   "execution_count": 210,
   "id": "3514c2c1",
   "metadata": {},
   "outputs": [],
   "source": [
    "def calc_goals_pr(param_dict, homeTeam, awayTeam):\n",
    "    means = [np.exp(param_dict['attack_'+homeTeam] + param_dict['defence_'+awayTeam] + param_dict['home_adv']),\n",
    "     np.exp(param_dict['defence_'+homeTeam] + param_dict['attack_'+awayTeam])]\n",
    "    \n",
    "    team_pred = [[poisson.pmf(i, team_avg) for i in range(0, 4)] for team_avg in means]\n",
    "    \n",
    "    for i in range(len(means)):\n",
    "        team_pred[i].append(1 - poisson.cdf(3, means[i]))\n",
    "    \n",
    "    return np.array(team_pred)"
   ]
  },
  {
   "cell_type": "code",
   "execution_count": 220,
   "id": "c2d550cb",
   "metadata": {},
   "outputs": [],
   "source": [
    "sum_array = np.zeros((2, 5))\n",
    "for row in dataset.itertuples():\n",
    "    sum_array += calc_goals_pr(parameters_m2, row.HomeTeam, row.AwayTeam)"
   ]
  },
  {
   "cell_type": "code",
   "execution_count": 222,
   "id": "7b48f02b",
   "metadata": {},
   "outputs": [],
   "source": [
    "table_4_df[\"home_exp\"] = sum_array[0]\n",
    "table_4_df[\"away_exp\"] = sum_array[1]"
   ]
  },
  {
   "cell_type": "code",
   "execution_count": 227,
   "id": "da152992",
   "metadata": {
    "scrolled": true
   },
   "outputs": [
    {
     "data": {
      "text/html": [
       "<div>\n",
       "<style scoped>\n",
       "    .dataframe tbody tr th:only-of-type {\n",
       "        vertical-align: middle;\n",
       "    }\n",
       "\n",
       "    .dataframe tbody tr th {\n",
       "        vertical-align: top;\n",
       "    }\n",
       "\n",
       "    .dataframe thead th {\n",
       "        text-align: right;\n",
       "    }\n",
       "</style>\n",
       "<table border=\"1\" class=\"dataframe\">\n",
       "  <thead>\n",
       "    <tr style=\"text-align: right;\">\n",
       "      <th></th>\n",
       "      <th>number_of_goals</th>\n",
       "      <th>home_obs</th>\n",
       "      <th>home_exp</th>\n",
       "      <th>away_obs</th>\n",
       "      <th>away_exp</th>\n",
       "    </tr>\n",
       "  </thead>\n",
       "  <tbody>\n",
       "    <tr>\n",
       "      <th>0</th>\n",
       "      <td>0</td>\n",
       "      <td>90</td>\n",
       "      <td>100.402021</td>\n",
       "      <td>136</td>\n",
       "      <td>135.933295</td>\n",
       "    </tr>\n",
       "    <tr>\n",
       "      <th>1</th>\n",
       "      <td>1</td>\n",
       "      <td>126</td>\n",
       "      <td>118.079733</td>\n",
       "      <td>127</td>\n",
       "      <td>126.427083</td>\n",
       "    </tr>\n",
       "    <tr>\n",
       "      <th>2</th>\n",
       "      <td>2</td>\n",
       "      <td>91</td>\n",
       "      <td>81.412629</td>\n",
       "      <td>65</td>\n",
       "      <td>69.667116</td>\n",
       "    </tr>\n",
       "    <tr>\n",
       "      <th>3</th>\n",
       "      <td>3</td>\n",
       "      <td>35</td>\n",
       "      <td>44.021426</td>\n",
       "      <td>33</td>\n",
       "      <td>30.345152</td>\n",
       "    </tr>\n",
       "    <tr>\n",
       "      <th>4</th>\n",
       "      <td>&gt;=4</td>\n",
       "      <td>38</td>\n",
       "      <td>36.084191</td>\n",
       "      <td>19</td>\n",
       "      <td>17.627354</td>\n",
       "    </tr>\n",
       "  </tbody>\n",
       "</table>\n",
       "</div>"
      ],
      "text/plain": [
       "  number_of_goals  home_obs    home_exp  away_obs    away_exp\n",
       "0               0        90  100.402021       136  135.933295\n",
       "1               1       126  118.079733       127  126.427083\n",
       "2               2        91   81.412629        65   69.667116\n",
       "3               3        35   44.021426        33   30.345152\n",
       "4             >=4        38   36.084191        19   17.627354"
      ]
     },
     "execution_count": 227,
     "metadata": {},
     "output_type": "execute_result"
    }
   ],
   "source": [
    "table_4_df"
   ]
  },
  {
   "cell_type": "markdown",
   "id": "3cf36f9e",
   "metadata": {},
   "source": [
    "### Chi-Squared goodness of fit test"
   ]
  },
  {
   "cell_type": "code",
   "execution_count": 230,
   "id": "349355e9",
   "metadata": {},
   "outputs": [],
   "source": [
    "table_5_df = table_4_df.copy()\n",
    "table_5_df[\"home_t_stat\"] = (table_5_df[\"home_obs\"] - table_5_df[\"home_exp\"])**2/table_5_df[\"home_exp\"]\n",
    "table_5_df[\"away_t_stat\"] = (table_5_df[\"away_obs\"] - table_5_df[\"away_exp\"])**2/table_5_df[\"away_exp\"]"
   ]
  },
  {
   "cell_type": "code",
   "execution_count": 240,
   "id": "6e761eff",
   "metadata": {},
   "outputs": [],
   "source": [
    "home_t_stat = table_5_df[\"home_t_stat\"].sum()\n",
    "away_t_stat = table_5_df[\"away_t_stat\"].sum()"
   ]
  },
  {
   "cell_type": "code",
   "execution_count": 244,
   "id": "14fd90f2",
   "metadata": {},
   "outputs": [
    {
     "data": {
      "text/plain": [
       "0.883863312261404"
      ]
     },
     "execution_count": 244,
     "metadata": {},
     "output_type": "execute_result"
    }
   ],
   "source": [
    "home_p_val = 1-scipy.stats.chi2.cdf(home_t_stat, 3)\n",
    "away_p_val = 1-scipy.stats.chi2.cdf(away_t_stat, 3)"
   ]
  },
  {
   "cell_type": "markdown",
   "id": "10b420f8",
   "metadata": {},
   "source": [
    "Both p-values are > 0.05, so cannot reject that the observed goals come from an independent Poisson distribution at the 5% level"
   ]
  },
  {
   "cell_type": "markdown",
   "id": "76d71f8c",
   "metadata": {},
   "source": [
    "# 5 A bivariate Poisson model"
   ]
  },
  {
   "cell_type": "markdown",
   "id": "0de3acaf",
   "metadata": {},
   "source": [
    "## Table 6. \n",
    "**Observed and estimated frequencies for Z, the difference in the teams' scores, for (i) the independent Poisson model and (ii) the bivariate Possion with Q = 0.2**"
   ]
  },
  {
   "cell_type": "code",
   "execution_count": 424,
   "id": "72a2c303",
   "metadata": {},
   "outputs": [],
   "source": [
    "dataset_1 = dataset.copy()\n",
    "dataset_1[\"Z\"] = dataset_1[\"FTHG\"] - dataset_1[\"FTAG\"]"
   ]
  },
  {
   "cell_type": "code",
   "execution_count": 425,
   "id": "cee2f234",
   "metadata": {
    "scrolled": true
   },
   "outputs": [],
   "source": [
    "table_6_df = pd.DataFrame({\"Z\": [\"<=-3\", -2, -1, 0, 1, 2, 3, 4,\">=5\"], \n",
    "                           \"observed\": [sum(dataset_1[\"Z\"]<=-3), sum(dataset_1[\"Z\"]==-2), \n",
    "                                        sum(dataset_1[\"Z\"]==-1), sum(dataset_1[\"Z\"]==0), \n",
    "                                        sum(dataset_1[\"Z\"]==1), sum(dataset_1[\"Z\"]==2), \n",
    "                                       sum(dataset_1[\"Z\"]==3), sum(dataset_1[\"Z\"]==4), \n",
    "                                       sum(dataset_1[\"Z\"]>=5)]})"
   ]
  },
  {
   "cell_type": "code",
   "execution_count": 426,
   "id": "12d9e07f",
   "metadata": {},
   "outputs": [],
   "source": [
    "def calc_goals_pr_dict(param_dict, homeTeam, awayTeam, q=0):\n",
    "    means = [np.exp(param_dict['attack_'+homeTeam] + param_dict['defence_'+awayTeam] + param_dict['home_adv']),\n",
    "             np.exp(param_dict['defence_'+homeTeam] + param_dict['attack_'+awayTeam])]\n",
    "    \n",
    "    team_pred = []\n",
    "    for mean in means:\n",
    "        dicti = {}\n",
    "        for i in range(0, 15):\n",
    "            correction = q*np.sqrt(means[0]*means[1])\n",
    "            expectation = mean - correction\n",
    "            dicti[i] = poisson.pmf(i, expectation)\n",
    "        \n",
    "        team_pred.append(dicti)\n",
    "\n",
    "    return team_pred"
   ]
  },
  {
   "cell_type": "code",
   "execution_count": 427,
   "id": "d119c58a",
   "metadata": {},
   "outputs": [],
   "source": [
    "def get_goal_diff_pr(team_pred):\n",
    "    out = {}\n",
    "    for k_h, v_h in team_pred[0].items():\n",
    "        for k_a, v_a in team_pred[1].items():\n",
    "            diff = k_h - k_a\n",
    "            if (diff <= -3):\n",
    "                diff = \"<=-3\"\n",
    "            elif (diff >= 5):\n",
    "                diff = \">=5\"\n",
    "            \n",
    "            if (out.get(diff, 0) == 0):\n",
    "                out[diff] = v_h*v_a\n",
    "            else:\n",
    "                out[diff] += v_h*v_a\n",
    "    return out"
   ]
  },
  {
   "cell_type": "code",
   "execution_count": 428,
   "id": "49b11c60",
   "metadata": {},
   "outputs": [],
   "source": [
    "def add_to_dict(dic, dic_to_add):\n",
    "    for k_b, v_b in dic_to_add.items():\n",
    "        if dic.get(k_b, 0) == 0:\n",
    "            dic[k_b] = v_b\n",
    "        else:\n",
    "            dic[k_b] += v_b"
   ]
  },
  {
   "cell_type": "code",
   "execution_count": 429,
   "id": "f07dd760",
   "metadata": {},
   "outputs": [],
   "source": [
    "q0_sum_dict = {}\n",
    "q200_sum_dict = {}\n",
    "for row in dataset_1.itertuples():\n",
    "    goals_dict = calc_goals_pr_dict(parameters_m2, row.HomeTeam, row.AwayTeam)\n",
    "    goal_diff_dict = get_goal_diff_pr(goals_dict)\n",
    "    add_to_dict(q0_sum_dict, goal_diff_dict)\n",
    "    \n",
    "    goals_dict = calc_goals_pr_dict(parameters_m2, row.HomeTeam, row.AwayTeam, 0.2)\n",
    "    goal_diff_dict = get_goal_diff_pr(goals_dict)\n",
    "    add_to_dict(q200_sum_dict, goal_diff_dict)"
   ]
  },
  {
   "cell_type": "code",
   "execution_count": 430,
   "id": "9972c8f9",
   "metadata": {},
   "outputs": [],
   "source": [
    "estimated_q0 = []\n",
    "estimated_q200 = []\n",
    "for row in table_6_df.itertuples():\n",
    "    estimated_q0.append(q0_sum_dict[row.Z])\n",
    "    estimated_q200.append(q200_sum_dict[row.Z])\n",
    "    \n",
    "table_6_df[\"estimated_q0\"] = estimated_q0\n",
    "table_6_df[\"estimated_q200\"] = estimated_q200"
   ]
  },
  {
   "cell_type": "code",
   "execution_count": 431,
   "id": "d0b253a5",
   "metadata": {},
   "outputs": [
    {
     "data": {
      "text/html": [
       "<div>\n",
       "<style scoped>\n",
       "    .dataframe tbody tr th:only-of-type {\n",
       "        vertical-align: middle;\n",
       "    }\n",
       "\n",
       "    .dataframe tbody tr th {\n",
       "        vertical-align: top;\n",
       "    }\n",
       "\n",
       "    .dataframe thead th {\n",
       "        text-align: right;\n",
       "    }\n",
       "</style>\n",
       "<table border=\"1\" class=\"dataframe\">\n",
       "  <thead>\n",
       "    <tr style=\"text-align: right;\">\n",
       "      <th></th>\n",
       "      <th>Z</th>\n",
       "      <th>observed</th>\n",
       "      <th>estimated_q0</th>\n",
       "      <th>estimated_q200</th>\n",
       "    </tr>\n",
       "  </thead>\n",
       "  <tbody>\n",
       "    <tr>\n",
       "      <th>0</th>\n",
       "      <td>&lt;=-3</td>\n",
       "      <td>29</td>\n",
       "      <td>23.452832</td>\n",
       "      <td>19.068829</td>\n",
       "    </tr>\n",
       "    <tr>\n",
       "      <th>1</th>\n",
       "      <td>-2</td>\n",
       "      <td>21</td>\n",
       "      <td>32.831202</td>\n",
       "      <td>29.945928</td>\n",
       "    </tr>\n",
       "    <tr>\n",
       "      <th>2</th>\n",
       "      <td>-1</td>\n",
       "      <td>58</td>\n",
       "      <td>62.215100</td>\n",
       "      <td>62.709352</td>\n",
       "    </tr>\n",
       "    <tr>\n",
       "      <th>3</th>\n",
       "      <td>0</td>\n",
       "      <td>99</td>\n",
       "      <td>87.917862</td>\n",
       "      <td>97.846938</td>\n",
       "    </tr>\n",
       "    <tr>\n",
       "      <th>4</th>\n",
       "      <td>1</td>\n",
       "      <td>83</td>\n",
       "      <td>76.100235</td>\n",
       "      <td>79.740538</td>\n",
       "    </tr>\n",
       "    <tr>\n",
       "      <th>5</th>\n",
       "      <td>2</td>\n",
       "      <td>41</td>\n",
       "      <td>48.852222</td>\n",
       "      <td>47.552976</td>\n",
       "    </tr>\n",
       "    <tr>\n",
       "      <th>6</th>\n",
       "      <td>3</td>\n",
       "      <td>27</td>\n",
       "      <td>26.335988</td>\n",
       "      <td>24.148715</td>\n",
       "    </tr>\n",
       "    <tr>\n",
       "      <th>7</th>\n",
       "      <td>4</td>\n",
       "      <td>12</td>\n",
       "      <td>12.741033</td>\n",
       "      <td>11.154098</td>\n",
       "    </tr>\n",
       "    <tr>\n",
       "      <th>8</th>\n",
       "      <td>&gt;=5</td>\n",
       "      <td>10</td>\n",
       "      <td>9.553393</td>\n",
       "      <td>7.832575</td>\n",
       "    </tr>\n",
       "  </tbody>\n",
       "</table>\n",
       "</div>"
      ],
      "text/plain": [
       "      Z  observed  estimated_q0  estimated_q200\n",
       "0  <=-3        29     23.452832       19.068829\n",
       "1    -2        21     32.831202       29.945928\n",
       "2    -1        58     62.215100       62.709352\n",
       "3     0        99     87.917862       97.846938\n",
       "4     1        83     76.100235       79.740538\n",
       "5     2        41     48.852222       47.552976\n",
       "6     3        27     26.335988       24.148715\n",
       "7     4        12     12.741033       11.154098\n",
       "8   >=5        10      9.553393        7.832575"
      ]
     },
     "execution_count": 431,
     "metadata": {},
     "output_type": "execute_result"
    }
   ],
   "source": [
    "table_6_df"
   ]
  },
  {
   "cell_type": "code",
   "execution_count": null,
   "id": "8d2fe5c5",
   "metadata": {},
   "outputs": [],
   "source": []
  },
  {
   "cell_type": "code",
   "execution_count": 396,
   "id": "9ac8503f",
   "metadata": {},
   "outputs": [],
   "source": []
  },
  {
   "cell_type": "code",
   "execution_count": null,
   "id": "444a2cbb",
   "metadata": {},
   "outputs": [],
   "source": []
  }
 ],
 "metadata": {
  "kernelspec": {
   "display_name": "Python 3 (ipykernel)",
   "language": "python",
   "name": "python3"
  },
  "language_info": {
   "codemirror_mode": {
    "name": "ipython",
    "version": 3
   },
   "file_extension": ".py",
   "mimetype": "text/x-python",
   "name": "python",
   "nbconvert_exporter": "python",
   "pygments_lexer": "ipython3",
   "version": "3.9.6"
  }
 },
 "nbformat": 4,
 "nbformat_minor": 5
}
