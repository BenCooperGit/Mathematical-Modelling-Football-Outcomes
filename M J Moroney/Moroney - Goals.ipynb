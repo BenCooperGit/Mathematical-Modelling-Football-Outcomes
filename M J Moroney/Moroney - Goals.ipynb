{
 "cells": [
  {
   "cell_type": "code",
   "execution_count": 1,
   "id": "2c59c1e3",
   "metadata": {},
   "outputs": [],
   "source": [
    "import pandas as pd\n",
    "import matplotlib.pyplot as plt\n",
    "import numpy as np\n",
    "from scipy.stats import poisson, nbinom\n",
    "import glob\n",
    "import scipy"
   ]
  },
  {
   "cell_type": "code",
   "execution_count": 2,
   "id": "ba42d1e1",
   "metadata": {},
   "outputs": [
    {
     "data": {
      "text/html": [
       "<div>\n",
       "<style scoped>\n",
       "    .dataframe tbody tr th:only-of-type {\n",
       "        vertical-align: middle;\n",
       "    }\n",
       "\n",
       "    .dataframe tbody tr th {\n",
       "        vertical-align: top;\n",
       "    }\n",
       "\n",
       "    .dataframe thead th {\n",
       "        text-align: right;\n",
       "    }\n",
       "</style>\n",
       "<table border=\"1\" class=\"dataframe\">\n",
       "  <thead>\n",
       "    <tr style=\"text-align: right;\">\n",
       "      <th></th>\n",
       "      <th>FTHG</th>\n",
       "      <th>FTAG</th>\n",
       "      <th>FTTG</th>\n",
       "    </tr>\n",
       "  </thead>\n",
       "  <tbody>\n",
       "    <tr>\n",
       "      <th>0</th>\n",
       "      <td>2.0</td>\n",
       "      <td>3.0</td>\n",
       "      <td>5.0</td>\n",
       "    </tr>\n",
       "    <tr>\n",
       "      <th>1</th>\n",
       "      <td>0.0</td>\n",
       "      <td>3.0</td>\n",
       "      <td>3.0</td>\n",
       "    </tr>\n",
       "    <tr>\n",
       "      <th>2</th>\n",
       "      <td>1.0</td>\n",
       "      <td>0.0</td>\n",
       "      <td>1.0</td>\n",
       "    </tr>\n",
       "    <tr>\n",
       "      <th>3</th>\n",
       "      <td>2.0</td>\n",
       "      <td>0.0</td>\n",
       "      <td>2.0</td>\n",
       "    </tr>\n",
       "    <tr>\n",
       "      <th>4</th>\n",
       "      <td>3.0</td>\n",
       "      <td>2.0</td>\n",
       "      <td>5.0</td>\n",
       "    </tr>\n",
       "    <tr>\n",
       "      <th>...</th>\n",
       "      <td>...</td>\n",
       "      <td>...</td>\n",
       "      <td>...</td>\n",
       "    </tr>\n",
       "    <tr>\n",
       "      <th>10247</th>\n",
       "      <td>2.0</td>\n",
       "      <td>0.0</td>\n",
       "      <td>2.0</td>\n",
       "    </tr>\n",
       "    <tr>\n",
       "      <th>10248</th>\n",
       "      <td>5.0</td>\n",
       "      <td>0.0</td>\n",
       "      <td>5.0</td>\n",
       "    </tr>\n",
       "    <tr>\n",
       "      <th>10249</th>\n",
       "      <td>1.0</td>\n",
       "      <td>0.0</td>\n",
       "      <td>1.0</td>\n",
       "    </tr>\n",
       "    <tr>\n",
       "      <th>10250</th>\n",
       "      <td>3.0</td>\n",
       "      <td>0.0</td>\n",
       "      <td>3.0</td>\n",
       "    </tr>\n",
       "    <tr>\n",
       "      <th>10251</th>\n",
       "      <td>1.0</td>\n",
       "      <td>2.0</td>\n",
       "      <td>3.0</td>\n",
       "    </tr>\n",
       "  </tbody>\n",
       "</table>\n",
       "<p>10252 rows × 3 columns</p>\n",
       "</div>"
      ],
      "text/plain": [
       "       FTHG  FTAG  FTTG\n",
       "0       2.0   3.0   5.0\n",
       "1       0.0   3.0   3.0\n",
       "2       1.0   0.0   1.0\n",
       "3       2.0   0.0   2.0\n",
       "4       3.0   2.0   5.0\n",
       "...     ...   ...   ...\n",
       "10247   2.0   0.0   2.0\n",
       "10248   5.0   0.0   5.0\n",
       "10249   1.0   0.0   1.0\n",
       "10250   3.0   0.0   3.0\n",
       "10251   1.0   2.0   3.0\n",
       "\n",
       "[10252 rows x 3 columns]"
      ]
     },
     "execution_count": 2,
     "metadata": {},
     "output_type": "execute_result"
    }
   ],
   "source": [
    "path =r\"..\\\\data\"\n",
    "filenames = glob.glob(path + \"\\\\football-data*.csv\")\n",
    "\n",
    "dfs = []\n",
    "for filename in filenames:\n",
    "    dfs.append(pd.read_csv(filename))\n",
    "\n",
    "df = pd.concat(dfs)\n",
    "\n",
    "df.dropna(subset=[\"Date\", \"HomeTeam\", \"AwayTeam\", \"FTHG\", \"FTAG\"], inplace=True)\n",
    "\n",
    "df.reset_index(inplace=True)\n",
    "df = df[[\"FTHG\", \"FTAG\"]]\n",
    "df[\"FTTG\"] = df[\"FTHG\"] + df[\"FTAG\"]\n",
    "df"
   ]
  },
  {
   "cell_type": "markdown",
   "id": "227fcba2",
   "metadata": {},
   "source": [
    "# Model 1\n",
    "Total goals per match taken as trials from a single Poisson distribution with mean = df[\"FTTG\"].mean()"
   ]
  },
  {
   "cell_type": "code",
   "execution_count": 3,
   "id": "86cca0f0",
   "metadata": {},
   "outputs": [
    {
     "data": {
      "text/plain": [
       "2.6510924697619975"
      ]
     },
     "execution_count": 3,
     "metadata": {},
     "output_type": "execute_result"
    }
   ],
   "source": [
    "av_TG = df[\"FTTG\"].mean()\n",
    "av_TG"
   ]
  },
  {
   "cell_type": "code",
   "execution_count": 4,
   "id": "71e30dde",
   "metadata": {},
   "outputs": [
    {
     "data": {
      "text/html": [
       "<div>\n",
       "<style scoped>\n",
       "    .dataframe tbody tr th:only-of-type {\n",
       "        vertical-align: middle;\n",
       "    }\n",
       "\n",
       "    .dataframe tbody tr th {\n",
       "        vertical-align: top;\n",
       "    }\n",
       "\n",
       "    .dataframe thead th {\n",
       "        text-align: right;\n",
       "    }\n",
       "</style>\n",
       "<table border=\"1\" class=\"dataframe\">\n",
       "  <thead>\n",
       "    <tr style=\"text-align: right;\">\n",
       "      <th></th>\n",
       "      <th>Goals_per_match</th>\n",
       "      <th>Observed_Frequency</th>\n",
       "      <th>Poisson_Frequency</th>\n",
       "      <th>T_Stat</th>\n",
       "    </tr>\n",
       "  </thead>\n",
       "  <tbody>\n",
       "    <tr>\n",
       "      <th>0</th>\n",
       "      <td>0</td>\n",
       "      <td>777</td>\n",
       "      <td>723.525375</td>\n",
       "      <td>3.952226</td>\n",
       "    </tr>\n",
       "    <tr>\n",
       "      <th>1</th>\n",
       "      <td>1</td>\n",
       "      <td>1844</td>\n",
       "      <td>1918.132673</td>\n",
       "      <td>2.865106</td>\n",
       "    </tr>\n",
       "    <tr>\n",
       "      <th>2</th>\n",
       "      <td>2</td>\n",
       "      <td>2500</td>\n",
       "      <td>2542.573542</td>\n",
       "      <td>0.712863</td>\n",
       "    </tr>\n",
       "    <tr>\n",
       "      <th>3</th>\n",
       "      <td>3</td>\n",
       "      <td>2321</td>\n",
       "      <td>2246.865857</td>\n",
       "      <td>2.446017</td>\n",
       "    </tr>\n",
       "    <tr>\n",
       "      <th>4</th>\n",
       "      <td>4</td>\n",
       "      <td>1508</td>\n",
       "      <td>1489.162289</td>\n",
       "      <td>0.238295</td>\n",
       "    </tr>\n",
       "    <tr>\n",
       "      <th>5</th>\n",
       "      <td>5</td>\n",
       "      <td>771</td>\n",
       "      <td>789.581386</td>\n",
       "      <td>0.437280</td>\n",
       "    </tr>\n",
       "    <tr>\n",
       "      <th>6</th>\n",
       "      <td>6</td>\n",
       "      <td>328</td>\n",
       "      <td>348.875544</td>\n",
       "      <td>1.249123</td>\n",
       "    </tr>\n",
       "    <tr>\n",
       "      <th>7</th>\n",
       "      <td>7</td>\n",
       "      <td>138</td>\n",
       "      <td>132.128761</td>\n",
       "      <td>0.260893</td>\n",
       "    </tr>\n",
       "    <tr>\n",
       "      <th>8</th>\n",
       "      <td>&gt;= 8</td>\n",
       "      <td>65</td>\n",
       "      <td>61.154572</td>\n",
       "      <td>0.241802</td>\n",
       "    </tr>\n",
       "  </tbody>\n",
       "</table>\n",
       "</div>"
      ],
      "text/plain": [
       "  Goals_per_match  Observed_Frequency  Poisson_Frequency    T_Stat\n",
       "0               0                 777         723.525375  3.952226\n",
       "1               1                1844        1918.132673  2.865106\n",
       "2               2                2500        2542.573542  0.712863\n",
       "3               3                2321        2246.865857  2.446017\n",
       "4               4                1508        1489.162289  0.238295\n",
       "5               5                 771         789.581386  0.437280\n",
       "6               6                 328         348.875544  1.249123\n",
       "7               7                 138         132.128761  0.260893\n",
       "8            >= 8                  65          61.154572  0.241802"
      ]
     },
     "execution_count": 4,
     "metadata": {},
     "output_type": "execute_result"
    }
   ],
   "source": [
    "goals = []\n",
    "observed_frequency = []\n",
    "expected_frequency = []\n",
    "\n",
    "max_goals = 7\n",
    "for i in range(max_goals + 1):\n",
    "    goals.append(i)\n",
    "    observed_frequency.append(sum(df[\"FTTG\"] == i))\n",
    "    expected_frequency.append(poisson.pmf(i, av_TG) * len(df[\"FTTG\"]))    \n",
    "\n",
    "goals.append(\">= 8\")\n",
    "observed_frequency.append(sum(df[\"FTTG\"] >= max_goals + 1))\n",
    "expected_frequency.append((1 - poisson.cdf(max_goals, av_TG)) * len(df[\"FTTG\"]))\n",
    "\n",
    "table_df = pd.DataFrame({\"Goals_per_match\": goals, \"Observed_Frequency\": observed_frequency,\n",
    "                        \"Poisson_Frequency\": expected_frequency})\n",
    "table_df[\"T_Stat\"] = (table_df[\"Observed_Frequency\"] - table_df[\"Poisson_Frequency\"])**2 / table_df[\"Poisson_Frequency\"]\n",
    "table_df"
   ]
  },
  {
   "cell_type": "code",
   "execution_count": 5,
   "id": "6b75be87",
   "metadata": {},
   "outputs": [
    {
     "data": {
      "text/plain": [
       "0.08804323540261771"
      ]
     },
     "execution_count": 5,
     "metadata": {},
     "output_type": "execute_result"
    }
   ],
   "source": [
    "t_stat = table_df[\"T_Stat\"].sum()\n",
    "k = len(table_df)  # Number of categories\n",
    "p = 1\n",
    "\n",
    "p_value = 1 - scipy.stats.chi2.cdf(t_stat, k - p - 1)\n",
    "p_value"
   ]
  },
  {
   "cell_type": "markdown",
   "id": "ab6535b6",
   "metadata": {},
   "source": [
    "P-value is > 0.05, so cannot reject that the observed goals come from a Poisson distribution at the 5% level"
   ]
  },
  {
   "cell_type": "markdown",
   "id": "4ca51b18",
   "metadata": {},
   "source": [
    " "
   ]
  },
  {
   "cell_type": "markdown",
   "id": "bb07a314",
   "metadata": {},
   "source": [
    "# Model 2\n",
    "Modifying the Poisson distribution to account for the expectation varying from trial to trial - Negative binomial"
   ]
  },
  {
   "cell_type": "code",
   "execution_count": 6,
   "id": "6846025e",
   "metadata": {},
   "outputs": [
    {
     "data": {
      "text/plain": [
       "2.668060648101703"
      ]
     },
     "execution_count": 6,
     "metadata": {},
     "output_type": "execute_result"
    }
   ],
   "source": [
    "var_TG = np.var(df[\"FTTG\"])\n",
    "var_TG"
   ]
  },
  {
   "cell_type": "code",
   "execution_count": 7,
   "id": "531f8a5d",
   "metadata": {},
   "outputs": [],
   "source": [
    "p = av_TG / var_TG\n",
    "n = av_TG**2 / (var_TG-av_TG)"
   ]
  },
  {
   "cell_type": "code",
   "execution_count": 8,
   "id": "aa068ab9",
   "metadata": {},
   "outputs": [
    {
     "data": {
      "text/html": [
       "<div>\n",
       "<style scoped>\n",
       "    .dataframe tbody tr th:only-of-type {\n",
       "        vertical-align: middle;\n",
       "    }\n",
       "\n",
       "    .dataframe tbody tr th {\n",
       "        vertical-align: top;\n",
       "    }\n",
       "\n",
       "    .dataframe thead th {\n",
       "        text-align: right;\n",
       "    }\n",
       "</style>\n",
       "<table border=\"1\" class=\"dataframe\">\n",
       "  <thead>\n",
       "    <tr style=\"text-align: right;\">\n",
       "      <th></th>\n",
       "      <th>Goals_per_match</th>\n",
       "      <th>Observed_Frequency</th>\n",
       "      <th>Poisson_Frequency</th>\n",
       "      <th>T_Stat</th>\n",
       "      <th>NBinomial_Frequency</th>\n",
       "      <th>T_Stat2</th>\n",
       "    </tr>\n",
       "  </thead>\n",
       "  <tbody>\n",
       "    <tr>\n",
       "      <th>0</th>\n",
       "      <td>0</td>\n",
       "      <td>777</td>\n",
       "      <td>723.525375</td>\n",
       "      <td>3.952226</td>\n",
       "      <td>729.663653</td>\n",
       "      <td>3.070908</td>\n",
       "    </tr>\n",
       "    <tr>\n",
       "      <th>1</th>\n",
       "      <td>1</td>\n",
       "      <td>1844</td>\n",
       "      <td>1918.132673</td>\n",
       "      <td>2.865106</td>\n",
       "      <td>1922.103493</td>\n",
       "      <td>3.173687</td>\n",
       "    </tr>\n",
       "    <tr>\n",
       "      <th>2</th>\n",
       "      <td>2</td>\n",
       "      <td>2500</td>\n",
       "      <td>2542.573542</td>\n",
       "      <td>0.712863</td>\n",
       "      <td>2537.745502</td>\n",
       "      <td>0.561413</td>\n",
       "    </tr>\n",
       "    <tr>\n",
       "      <th>3</th>\n",
       "      <td>3</td>\n",
       "      <td>2321</td>\n",
       "      <td>2246.865857</td>\n",
       "      <td>2.446017</td>\n",
       "      <td>2239.096582</td>\n",
       "      <td>2.995927</td>\n",
       "    </tr>\n",
       "    <tr>\n",
       "      <th>4</th>\n",
       "      <td>4</td>\n",
       "      <td>1508</td>\n",
       "      <td>1489.162289</td>\n",
       "      <td>0.238295</td>\n",
       "      <td>1485.255139</td>\n",
       "      <td>0.348310</td>\n",
       "    </tr>\n",
       "    <tr>\n",
       "      <th>5</th>\n",
       "      <td>5</td>\n",
       "      <td>771</td>\n",
       "      <td>789.581386</td>\n",
       "      <td>0.437280</td>\n",
       "      <td>790.058056</td>\n",
       "      <td>0.459725</td>\n",
       "    </tr>\n",
       "    <tr>\n",
       "      <th>6</th>\n",
       "      <td>6</td>\n",
       "      <td>328</td>\n",
       "      <td>348.875544</td>\n",
       "      <td>1.249123</td>\n",
       "      <td>351.053201</td>\n",
       "      <td>1.513873</td>\n",
       "    </tr>\n",
       "    <tr>\n",
       "      <th>7</th>\n",
       "      <td>7</td>\n",
       "      <td>138</td>\n",
       "      <td>132.128761</td>\n",
       "      <td>0.260893</td>\n",
       "      <td>134.021613</td>\n",
       "      <td>0.118097</td>\n",
       "    </tr>\n",
       "    <tr>\n",
       "      <th>8</th>\n",
       "      <td>&gt;= 8</td>\n",
       "      <td>65</td>\n",
       "      <td>61.154572</td>\n",
       "      <td>0.241802</td>\n",
       "      <td>63.002761</td>\n",
       "      <td>0.063314</td>\n",
       "    </tr>\n",
       "  </tbody>\n",
       "</table>\n",
       "</div>"
      ],
      "text/plain": [
       "  Goals_per_match  Observed_Frequency  Poisson_Frequency    T_Stat  \\\n",
       "0               0                 777         723.525375  3.952226   \n",
       "1               1                1844        1918.132673  2.865106   \n",
       "2               2                2500        2542.573542  0.712863   \n",
       "3               3                2321        2246.865857  2.446017   \n",
       "4               4                1508        1489.162289  0.238295   \n",
       "5               5                 771         789.581386  0.437280   \n",
       "6               6                 328         348.875544  1.249123   \n",
       "7               7                 138         132.128761  0.260893   \n",
       "8            >= 8                  65          61.154572  0.241802   \n",
       "\n",
       "   NBinomial_Frequency   T_Stat2  \n",
       "0           729.663653  3.070908  \n",
       "1          1922.103493  3.173687  \n",
       "2          2537.745502  0.561413  \n",
       "3          2239.096582  2.995927  \n",
       "4          1485.255139  0.348310  \n",
       "5           790.058056  0.459725  \n",
       "6           351.053201  1.513873  \n",
       "7           134.021613  0.118097  \n",
       "8            63.002761  0.063314  "
      ]
     },
     "execution_count": 8,
     "metadata": {},
     "output_type": "execute_result"
    }
   ],
   "source": [
    "expected_frequency = []\n",
    "for i in range(max_goals + 1):\n",
    "    expected_frequency.append(nbinom.pmf(i, n, p) * len(df[\"FTTG\"]))\n",
    "    \n",
    "expected_frequency.append((1-nbinom.cdf(max_goals, n, p)) * len(df[\"FTTG\"]))\n",
    "    \n",
    "table_df[\"NBinomial_Frequency\"] = expected_frequency\n",
    "table_df[\"T_Stat2\"] = (table_df[\"Observed_Frequency\"] - table_df[\"NBinomial_Frequency\"])**2 / table_df[\"NBinomial_Frequency\"]\n",
    "table_df"
   ]
  },
  {
   "cell_type": "code",
   "execution_count": 9,
   "id": "caeacecd",
   "metadata": {},
   "outputs": [
    {
     "data": {
      "text/plain": [
       "0.05549530119750545"
      ]
     },
     "execution_count": 9,
     "metadata": {},
     "output_type": "execute_result"
    }
   ],
   "source": [
    "t_stat = table_df[\"T_Stat2\"].sum()\n",
    "p = 2  # Number of parameters\n",
    "\n",
    "p_value = 1 - scipy.stats.chi2.cdf(t_stat, k - p - 1)\n",
    "p_value"
   ]
  },
  {
   "cell_type": "markdown",
   "id": "8ae5a3c7",
   "metadata": {},
   "source": [
    "P-value is > 0.05, so cannot reject that the observed goals come from a Negative Binomial distribution at the 5% level.  \n",
    "P-value for this model is actually marginally worse than for the Poisson model, suggesting a worse fit"
   ]
  }
 ],
 "metadata": {
  "kernelspec": {
   "display_name": "Python 3 (ipykernel)",
   "language": "python",
   "name": "python3"
  },
  "language_info": {
   "codemirror_mode": {
    "name": "ipython",
    "version": 3
   },
   "file_extension": ".py",
   "mimetype": "text/x-python",
   "name": "python",
   "nbconvert_exporter": "python",
   "pygments_lexer": "ipython3",
   "version": "3.9.6"
  }
 },
 "nbformat": 4,
 "nbformat_minor": 5
}
